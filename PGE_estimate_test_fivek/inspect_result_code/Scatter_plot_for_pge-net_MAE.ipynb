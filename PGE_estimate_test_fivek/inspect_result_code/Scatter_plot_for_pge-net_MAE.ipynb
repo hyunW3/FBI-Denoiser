{
 "cells": [
  {
   "cell_type": "code",
   "execution_count": 42,
   "id": "cf5dbd1d-005d-4c2a-b15d-c3afbeb635e3",
   "metadata": {},
   "outputs": [],
   "source": [
    "import os, sys\n",
    "import glob\n",
    "import pandas as pd\n",
    "import numpy as np\n",
    "import h5py\n",
    "from scipy import io as sio\n",
    "import matplotlib.pyplot as plt\n",
    "from core.utils import gat, chen_estimate\n",
    "import torch"
   ]
  },
  {
   "cell_type": "code",
   "execution_count": 16,
   "id": "50f11649-61b6-4d3e-ad97-8752eddc1ffc",
   "metadata": {},
   "outputs": [
    {
     "name": "stdout",
     "output_type": "stream",
     "text": [
      "Scatter_plot_for_pge-net_estimation_no_sampling-Copy1.ipynb\n",
      "Scatter_plot_for_pge-net_estimation_no_sampling.ipynb\n",
      "Scatter_plot_for_pge-net_MAE.ipynb\n"
     ]
    }
   ],
   "source": [
    "!ls "
   ]
  },
  {
   "cell_type": "code",
   "execution_count": 22,
   "id": "20db1ab2-7cc0-4d64-920d-311713dd6330",
   "metadata": {},
   "outputs": [
    {
     "name": "stdout",
     "output_type": "stream",
     "text": [
      "../../data/Fivek_dataset/test_fivek_rawRGB_alpha_0.01_beta_0.0002.hdf5\n"
     ]
    }
   ],
   "source": [
    "!ls ../../data/Fivek_dataset/test_fivek_rawRGB_alpha_0.01_beta_0.0002.hdf5"
   ]
  },
  {
   "cell_type": "code",
   "execution_count": 5,
   "id": "9b567cfa-864a-4e95-8f5c-b97a8c8d05a1",
   "metadata": {},
   "outputs": [
    {
     "name": "stdout",
     "output_type": "stream",
     "text": [
      "../../result_data//230127_PGE_Net_RawRGB_fivek_alpha_0.01_beta_0.0002_Noise_est_cropsize_200_vst_MAE_result\n",
      "../../result_data//230127_PGE_Net_RawRGB_fivek_alpha_0.01_beta_0.0002_Noise_est_cropsize_200_vst_MSE_result\n",
      "../../result_data//230127_PGE_Net_RawRGB_fivek_alpha_0.01_beta_0.02_Noise_est_cropsize_200_vst_MAE_result\n",
      "../../result_data//230127_PGE_Net_RawRGB_fivek_alpha_0.01_beta_0.02_Noise_est_cropsize_200_vst_MSE_result\n"
     ]
    }
   ],
   "source": [
    "!ls ../../result_data//230127*"
   ]
  },
  {
   "cell_type": "code",
   "execution_count": 46,
   "id": "2ecb6f8f-df3c-43f0-bfbf-36c8c3e466cd",
   "metadata": {},
   "outputs": [
    {
     "data": {
      "text/plain": [
       "dict_keys(['__header__', '__version__', '__globals__', 'tr_loss_arr', 'a_arr', 'b_arr'])"
      ]
     },
     "execution_count": 46,
     "metadata": {},
     "output_type": "execute_result"
    }
   ],
   "source": []
  },
  {
   "cell_type": "code",
   "execution_count": 48,
   "id": "b85dd4b5-a17c-405b-94c7-827bd63b0e4e",
   "metadata": {},
   "outputs": [
    {
     "data": {
      "text/plain": [
       "(1, 200)"
      ]
     },
     "execution_count": 48,
     "metadata": {},
     "output_type": "execute_result"
    }
   ],
   "source": [
    "MSE_result_data['a_arr'].shape"
   ]
  },
  {
   "cell_type": "code",
   "execution_count": 60,
   "id": "64e99982-5b89-4c15-8233-0ad174f903be",
   "metadata": {},
   "outputs": [],
   "source": [
    "alpha = 0.01\n",
    "beta = 0.02\n",
    "\n"
   ]
  },
  {
   "cell_type": "code",
   "execution_count": 61,
   "id": "7d3d225e-e7d8-451e-b5c1-446850643c64",
   "metadata": {},
   "outputs": [],
   "source": [
    "source = noisy_images[0]\n",
    "source = torch.from_numpy(source.reshape(1,source.shape[0],source.shape[1])).float()"
   ]
  },
  {
   "cell_type": "code",
   "execution_count": 62,
   "id": "051eaeaa-47a0-4502-b484-64713d572a4b",
   "metadata": {},
   "outputs": [
    {
     "data": {
      "text/plain": [
       "(torch.Size([1, 512, 512]), torch.float32)"
      ]
     },
     "execution_count": 62,
     "metadata": {},
     "output_type": "execute_result"
    }
   ],
   "source": [
    "source.shape, source.dtype"
   ]
  },
  {
   "cell_type": "code",
   "execution_count": 63,
   "id": "61c72aa1-3404-48e1-a5c5-c25682fabb57",
   "metadata": {},
   "outputs": [
    {
     "data": {
      "text/plain": [
       "(torch.Size([512, 512]), torch.float32)"
      ]
     },
     "execution_count": 63,
     "metadata": {},
     "output_type": "execute_result"
    }
   ],
   "source": [
    "noisy_img = torch.Tensor(noisy_images[0])\n",
    "noisy_img.shape, noisy_img.dtype"
   ]
  },
  {
   "cell_type": "code",
   "execution_count": 97,
   "id": "905e21f6-234d-4663-b82e-fbda53efd875",
   "metadata": {},
   "outputs": [],
   "source": [
    "def return_result(ref_item,item, func):\n",
    "    return item if ref_item is None else func(ref_item,item)\n",
    "def update_data(info, item):\n",
    "    info['min'] = return_result(info['min'], item,min)\n",
    "    info['max'] = return_result(info['max'], item,max)\n",
    "    info['average'].append(item)\n",
    "    return info\n",
    "def return_average(item):\n",
    "    item['MSE']['average'] = np.average(item['MSE']['average'])\n",
    "    item['MAE']['average'] = np.average(item['MAE']['average'])\n",
    "    item['real']['average'] = np.average(item['real']['average'])\n",
    "    return item"
   ]
  },
  {
   "cell_type": "code",
   "execution_count": 122,
   "id": "1ea27a7d-741a-4d1f-9eaf-eb18262f7f3b",
   "metadata": {},
   "outputs": [
    {
     "name": "stdout",
     "output_type": "stream",
     "text": [
      "=========== alpha : 0.01 beta : 0.02 ===========\n",
      "Real               : alpha : 0.01000000 sigma : 0.02000000\n",
      "estimated with MSE : alpha : 0.01559884 sigma : 0.00421521\n",
      "estimated with MAE : alpha : 0.01574573 sigma : 0.00390665\n",
      "0th image Gaussian variance estimation result\n",
      "0 MSE        : 1.28810477\n",
      "0 MAE        : 1.31024635\n",
      "0 Real param : 0.81218469\n",
      "======\n",
      "=========== alpha : 0.01 beta : 0.0002 ===========\n",
      "Real               : alpha : 0.01000000 sigma : 0.00020000\n",
      "estimated with MSE : alpha : 0.01010000 sigma : 0.00005100\n",
      "estimated with MAE : alpha : 0.00996626 sigma : 0.00002288\n",
      "0th image Gaussian variance estimation result\n",
      "0 MSE        : 2.52208948\n",
      "0 MAE        : 2.62160635\n",
      "0 Real param : 2.29323888\n",
      "======\n"
     ]
    }
   ],
   "source": [
    "from copy import deepcopy as dcpy\n",
    "print_log = True\n",
    "\n",
    "whole_metric = {}\n",
    "which_metric = 'beta' #'gaussian' 'alpha' 'beta'\n",
    "for alpha, beta in [[0.01,0.02], [0.01,0.0002]]:\n",
    "    print(f\"=========== alpha : {alpha} beta : {beta} ===========\")\n",
    "    MSE_filename = f\"../../result_data/230127_PGE_Net_RawRGB_fivek_alpha_{alpha}_beta_{beta}_Noise_est_cropsize_200_vst_MSE_result\"\n",
    "    MAE_filename = f\"../../result_data/230127_PGE_Net_RawRGB_fivek_alpha_{alpha}_beta_{beta}_Noise_est_cropsize_200_vst_MAE_result\"\n",
    "    MSE_result_data = sio.loadmat(MSE_filename)\n",
    "    MAE_result_data = sio.loadmat(MAE_filename)\n",
    "    MSE_result_data.keys()\n",
    "    test_dataset = f\"../../data/Fivek_dataset/test_fivek_rawRGB_alpha_{alpha}_beta_{beta}.hdf5\"\n",
    "    with h5py.File(test_dataset,'r') as f:\n",
    "        clean_images = np.array(f['clean_images'])\n",
    "        noisy_images = np.array(f['noisy_images'])\n",
    "    metric = {\"min\" : None, \"max\" : None, \"average\" : []}\n",
    "    total_metric = {\"MSE\": dcpy(metric), \"MAE\" : dcpy(metric), \"real\" : dcpy(metric)}\n",
    "    for idx, (noisy_img, clean_img) in enumerate(zip(noisy_images,clean_images)):\n",
    "        MSE_alpha, MSE_beta = MSE_result_data['a_arr'][0,idx],MSE_result_data['b_arr'][0,idx]\n",
    "        MAE_alpha, MAE_beta = MAE_result_data['a_arr'][0,idx],MAE_result_data['b_arr'][0,idx]\n",
    "        # print(\"======\")\n",
    "        if print_log is True:\n",
    "            print(f\"Real               : alpha : {alpha:.8f} sigma : {beta:.8f}\")\n",
    "            print(f\"estimated with MSE : alpha : {MSE_alpha:.8f} sigma : {MSE_beta:.8f}\")\n",
    "            print(f\"estimated with MAE : alpha : {MAE_alpha:.8f} sigma : {MAE_beta:.8f}\")\n",
    "        noisy_img = torch.from_numpy(noisy_img)\n",
    "\n",
    "        MAE_transformed_with_pge = gat(noisy_img, MAE_alpha, MAE_beta,0)\n",
    "        MAE_estimated_gaussian_noise_level = chen_estimate(MAE_transformed_with_pge).cpu().item()\n",
    "\n",
    "        MSE_transformed_with_pge = gat(noisy_img, MSE_alpha, MSE_beta,0)\n",
    "        MSE_estimated_gaussian_noise_level = chen_estimate(MSE_transformed_with_pge).cpu().item()\n",
    "\n",
    "        real_transformed_with_pge = gat(noisy_img, alpha, beta,0)\n",
    "        real_estimated_gaussian_noise_level = chen_estimate(real_transformed_with_pge).cpu().item()\n",
    "        if which_metric == 'gaussian':\n",
    "            update_data(total_metric['MSE'],MSE_estimated_gaussian_noise_level)\n",
    "            update_data(total_metric['MAE'],MAE_estimated_gaussian_noise_level)\n",
    "            update_data(total_metric['real'],real_estimated_gaussian_noise_level)\n",
    "        elif which_metric == 'alpha':\n",
    "            update_data(total_metric['MSE'],MSE_alpha)\n",
    "            update_data(total_metric['MAE'],MAE_alpha)\n",
    "            update_data(total_metric['real'],alpha)\n",
    "        elif which_metric == 'beta':\n",
    "            update_data(total_metric['MSE'],MSE_beta)\n",
    "            update_data(total_metric['MAE'],MAE_beta)\n",
    "            update_data(total_metric['real'],beta)\n",
    "        else :\n",
    "            raise ValueError(\"No options for \",which_metric)\n",
    "        if print_log is True:\n",
    "            print(f\"{idx}th image Gaussian variance estimation result\")\n",
    "            print(idx, f\"MSE        : {MSE_estimated_gaussian_noise_level:.8f}\")\n",
    "            print(idx, f\"MAE        : {MAE_estimated_gaussian_noise_level:.8f}\")\n",
    "            print(idx, f\"Real param : {real_estimated_gaussian_noise_level:.8f}\")\n",
    "            print(\"======\")\n",
    "            break\n",
    "    total_metric = return_average(total_metric)\n",
    "    whole_metric[f\"{alpha}/{beta}\"] = total_metric"
   ]
  },
  {
   "cell_type": "code",
   "execution_count": 120,
   "id": "4802203c-0166-4bf1-8292-54958e5f171d",
   "metadata": {},
   "outputs": [
    {
     "name": "stdout",
     "output_type": "stream",
     "text": [
      "==== dataset ====\n",
      "Fivek\n",
      "==== parameter =====\n",
      "alpha      : 0.0100\n",
      "sigma      : 0.0200\n",
      "==== estimated beta====\n",
      "MSE        : 0.00437907 (0.00406262~0.00531220)\n",
      "MAE        : 0.00384582 (0.00375222~0.00563847)\n",
      "Real param : 0.02000000 (0.02000000~0.02000000)\n"
     ]
    }
   ],
   "source": [
    "alpha = 0.01\n",
    "beta = 0.02\n",
    "print(f\"==== dataset ====\")\n",
    "print(\"Fivek\")\n",
    "print(f\"==== parameter =====\")\n",
    "print(f\"alpha      : {alpha:.4f}\")\n",
    "print(f\"sigma      : {beta:.4f}\")\n",
    "if which_metric == 'gaussian' :\n",
    "    print(\"====estimated gaussian variance (supposed to be 1)====\")\n",
    "elif which_metric == 'alpha':\n",
    "    print(\"==== estimated alpha====\")\n",
    "elif which_metric == 'beta':\n",
    "    print(\"==== estimated beta====\")\n",
    "print(f\"MSE        : {whole_metric['0.01/0.02']['MSE']['average']:.8f} ({whole_metric['0.01/0.02']['MSE']['min']:.8f}~{whole_metric['0.01/0.02']['MSE']['max']:.8f})\")\n",
    "print(f\"MAE        : {whole_metric['0.01/0.02']['MAE']['average']:.8f} ({whole_metric['0.01/0.02']['MAE']['min']:.8f}~{whole_metric['0.01/0.02']['MAE']['max']:.8f})\")\n",
    "print( f\"Real param : {whole_metric['0.01/0.02']['real']['average']:.8f} ({whole_metric['0.01/0.02']['real']['min']:.8f}~{whole_metric['0.01/0.02']['real']['max']:.8f})\")\n",
    "# whole_metric['0.01/0.02']['MSE']"
   ]
  }
 ],
 "metadata": {
  "kernelspec": {
   "display_name": "Python 3 (ipykernel)",
   "language": "python",
   "name": "python3"
  },
  "language_info": {
   "codemirror_mode": {
    "name": "ipython",
    "version": 3
   },
   "file_extension": ".py",
   "mimetype": "text/x-python",
   "name": "python",
   "nbconvert_exporter": "python",
   "pygments_lexer": "ipython3",
   "version": "3.9.13"
  }
 },
 "nbformat": 4,
 "nbformat_minor": 5
}
