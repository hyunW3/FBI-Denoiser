{
 "cells": [
  {
   "cell_type": "code",
   "execution_count": 1,
   "id": "79d80eed-b69f-48dc-b645-c2a0e5726d6f",
   "metadata": {},
   "outputs": [],
   "source": [
    "import numpy as np"
   ]
  },
  {
   "cell_type": "code",
   "execution_count": 2,
   "id": "96b4d7f7-5943-4d6a-aba4-03ca3a1efb7c",
   "metadata": {},
   "outputs": [
    {
     "data": {
      "text/plain": [
       "((6, 2, 2),\n",
       " array([[[1., 1.],\n",
       "         [1., 1.]],\n",
       " \n",
       "        [[1., 1.],\n",
       "         [1., 1.]],\n",
       " \n",
       "        [[2., 2.],\n",
       "         [2., 2.]],\n",
       " \n",
       "        [[2., 2.],\n",
       "         [2., 2.]],\n",
       " \n",
       "        [[0., 0.],\n",
       "         [0., 0.]],\n",
       " \n",
       "        [[0., 0.],\n",
       "         [0., 0.]]]))"
      ]
     },
     "execution_count": 2,
     "metadata": {},
     "output_type": "execute_result"
    }
   ],
   "source": [
    "a = np.zeros([3,2,2])\n",
    "a[0] = np.ones([2,2])\n",
    "a[1] = np.ones([2,2])*2\n",
    "b =np.repeat(a,2,axis=0)\n",
    "b.shape, b"
   ]
  },
  {
   "cell_type": "code",
   "execution_count": 5,
   "id": "1e6ff38a-8065-4eaf-b16f-f5c251ee6892",
   "metadata": {},
   "outputs": [
    {
     "data": {
      "text/plain": [
       "'123'"
      ]
     },
     "execution_count": 5,
     "metadata": {},
     "output_type": "execute_result"
    }
   ],
   "source": [
    "l = ['SET01','SET02','SET03']\n",
    "l = list(map(lambda x : str(int(x[3:])),l))\n",
    "\"\".join(l)"
   ]
  },
  {
   "cell_type": "code",
   "execution_count": null,
   "id": "d64bb08d-9dba-4dfc-8171-6ec21fe4d57c",
   "metadata": {},
   "outputs": [],
   "source": []
  }
 ],
 "metadata": {
  "kernelspec": {
   "display_name": "Python 3 (ipykernel)",
   "language": "python",
   "name": "python3"
  },
  "language_info": {
   "codemirror_mode": {
    "name": "ipython",
    "version": 3
   },
   "file_extension": ".py",
   "mimetype": "text/x-python",
   "name": "python",
   "nbconvert_exporter": "python",
   "pygments_lexer": "ipython3",
   "version": "3.9.13"
  }
 },
 "nbformat": 4,
 "nbformat_minor": 5
}
