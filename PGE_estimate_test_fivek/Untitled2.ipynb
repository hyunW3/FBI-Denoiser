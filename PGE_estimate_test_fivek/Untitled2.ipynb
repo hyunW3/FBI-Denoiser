{
 "cells": [
  {
   "cell_type": "code",
   "execution_count": 3,
   "id": "245d7d31-2e5b-4efc-835e-72f462fe0bea",
   "metadata": {},
   "outputs": [],
   "source": [
    "from scipy import io as sio\n",
    "import numpy as np"
   ]
  },
  {
   "cell_type": "code",
   "execution_count": 2,
   "id": "41ff905f-c204-46d3-996c-bdeda88d57aa",
   "metadata": {},
   "outputs": [
    {
     "name": "stdout",
     "output_type": "stream",
     "text": [
      "../result_data/230206_FBI_Net_RawRGB_fivek_alpha_0.01_beta_0.0002_EMSE_Affine_layers_x17_filters_x64.npy\n",
      "../result_data/230206_FBI_Net_RawRGB_fivek_alpha_0.01_beta_0.02_EMSE_Affine_layers_x17_filters_x64.npy\n",
      "../result_data/230206_FBI_Net_RawRGB_fivek_alpha_0.05_beta_0.02_EMSE_Affine_layers_x17_filters_x64.npy\n"
     ]
    }
   ],
   "source": [
    "!ls ../result_data/230206*"
   ]
  },
  {
   "cell_type": "code",
   "execution_count": 5,
   "id": "f7ce5084-d385-4e61-98ce-3837c4057ca5",
   "metadata": {},
   "outputs": [
    {
     "data": {
      "text/plain": [
       "(400, 512, 512)"
      ]
     },
     "execution_count": 5,
     "metadata": {},
     "output_type": "execute_result"
    }
   ],
   "source": [
    "result_data = np.load(\"../result_data/230206_FBI_Net_RawRGB_fivek_alpha_0.05_beta_0.02_EMSE_Affine_layers_x17_filters_x64.npy\")\n",
    "result_data.shape"
   ]
  },
  {
   "cell_type": "code",
   "execution_count": null,
   "id": "41c144b1-5b36-45dd-a8e9-fd3f932f8b55",
   "metadata": {},
   "outputs": [],
   "source": []
  }
 ],
 "metadata": {
  "kernelspec": {
   "display_name": "Python 3 (ipykernel)",
   "language": "python",
   "name": "python3"
  },
  "language_info": {
   "codemirror_mode": {
    "name": "ipython",
    "version": 3
   },
   "file_extension": ".py",
   "mimetype": "text/x-python",
   "name": "python",
   "nbconvert_exporter": "python",
   "pygments_lexer": "ipython3",
   "version": "3.9.13"
  }
 },
 "nbformat": 4,
 "nbformat_minor": 5
}
