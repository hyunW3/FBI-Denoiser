{
 "cells": [
  {
   "cell_type": "code",
   "execution_count": 9,
   "metadata": {},
   "outputs": [],
   "source": [
    "import h5py"
   ]
  },
  {
   "cell_type": "code",
   "execution_count": 10,
   "metadata": {},
   "outputs": [
    {
     "data": {
      "text/plain": [
       "['./train_Samsung_SNU_patches_230414.hdf5',\n",
       " './test_Samsung_SNU_patches_230414.hdf5']"
      ]
     },
     "execution_count": 10,
     "metadata": {},
     "output_type": "execute_result"
    }
   ],
   "source": [
    "import glob\n",
    "data_list = glob.glob('./*.hdf5')\n",
    "data_list"
   ]
  },
  {
   "cell_type": "code",
   "execution_count": 13,
   "metadata": {},
   "outputs": [
    {
     "name": "stdout",
     "output_type": "stream",
     "text": [
      "./train_Samsung_SNU_patches_230414.hdf5\n",
      "<KeysViewHDF5 ['F01', 'F32']>\n",
      "F01 (1060, 256, 256)\n",
      "F32 (1060, 256, 256)\n",
      "./test_Samsung_SNU_patches_230414.hdf5\n",
      "<KeysViewHDF5 ['F01', 'F32']>\n",
      "F01 (530, 256, 256)\n",
      "F32 (530, 256, 256)\n"
     ]
    }
   ],
   "source": [
    "for data in data_list:\n",
    "    print(data)\n",
    "    with h5py.File(data, 'r') as f:\n",
    "        print(f.keys())\n",
    "        for key in f.keys():\n",
    "            print(key,f[key].shape)\n",
    "        # print(f['data'].shape)\n",
    "        # print(f['label'].shape)"
   ]
  },
  {
   "cell_type": "code",
   "execution_count": null,
   "metadata": {},
   "outputs": [],
   "source": []
  },
  {
   "cell_type": "code",
   "execution_count": null,
   "metadata": {},
   "outputs": [],
   "source": []
  }
 ],
 "metadata": {
  "kernelspec": {
   "display_name": "env",
   "language": "python",
   "name": "python3"
  },
  "language_info": {
   "codemirror_mode": {
    "name": "ipython",
    "version": 3
   },
   "file_extension": ".py",
   "mimetype": "text/x-python",
   "name": "python",
   "nbconvert_exporter": "python",
   "pygments_lexer": "ipython3",
   "version": "3.9.13"
  },
  "orig_nbformat": 4
 },
 "nbformat": 4,
 "nbformat_minor": 2
}
