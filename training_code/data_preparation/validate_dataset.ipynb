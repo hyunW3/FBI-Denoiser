{
 "cells": [
  {
   "cell_type": "code",
   "execution_count": 1,
   "metadata": {},
   "outputs": [],
   "source": [
    "import h5py"
   ]
  },
  {
   "cell_type": "code",
   "execution_count": 4,
   "metadata": {},
   "outputs": [
    {
     "data": {
      "text/plain": [
       "['../train_Samsung_SNU_patches.hdf5', '../test_Samsung_SNU_patches.hdf5']"
      ]
     },
     "execution_count": 4,
     "metadata": {},
     "output_type": "execute_result"
    }
   ],
   "source": [
    "import glob\n",
    "data_list = glob.glob('../*.hdf5')\n",
    "data_list"
   ]
  },
  {
   "cell_type": "code",
   "execution_count": 5,
   "metadata": {},
   "outputs": [
    {
     "name": "stdout",
     "output_type": "stream",
     "text": [
      "../train_Samsung_SNU_patches.hdf5\n",
      "<KeysViewHDF5 ['F01', 'F02', 'F04', 'F08', 'F16', 'F32', 'F64']>\n",
      "F01 (21600, 256, 256)\n",
      "F02 (21600, 256, 256)\n",
      "F04 (21600, 256, 256)\n",
      "F08 (21600, 256, 256)\n",
      "F16 (21600, 256, 256)\n",
      "F32 (21600, 256, 256)\n",
      "F64 (21600, 256, 256)\n",
      "../test_Samsung_SNU_patches.hdf5\n",
      "<KeysViewHDF5 ['F01', 'F02', 'F04', 'F08', 'F16', 'F32', 'F64']>\n",
      "F01 (1440, 256, 256)\n",
      "F02 (1440, 256, 256)\n",
      "F04 (1440, 256, 256)\n",
      "F08 (1440, 256, 256)\n",
      "F16 (1440, 256, 256)\n",
      "F32 (1440, 256, 256)\n",
      "F64 (1440, 256, 256)\n"
     ]
    }
   ],
   "source": [
    "import h5py\n",
    "for file in data_list:\n",
    "    print(file)\n",
    "    with h5py.File(file,'r') as f:\n",
    "        print(f.keys())\n",
    "        for key in f.keys():\n",
    "            print(key,f[key].shape)\n",
    "        "
   ]
  },
  {
   "cell_type": "code",
   "execution_count": null,
   "metadata": {},
   "outputs": [],
   "source": []
  },
  {
   "cell_type": "code",
   "execution_count": null,
   "metadata": {},
   "outputs": [],
   "source": []
  }
 ],
 "metadata": {
  "kernelspec": {
   "display_name": "env",
   "language": "python",
   "name": "python3"
  },
  "language_info": {
   "codemirror_mode": {
    "name": "ipython",
    "version": 3
   },
   "file_extension": ".py",
   "mimetype": "text/x-python",
   "name": "python",
   "nbconvert_exporter": "python",
   "pygments_lexer": "ipython3",
   "version": "3.9.13"
  },
  "orig_nbformat": 4
 },
 "nbformat": 4,
 "nbformat_minor": 2
}
