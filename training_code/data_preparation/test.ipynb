{
 "cells": [
  {
   "cell_type": "code",
   "execution_count": 21,
   "metadata": {},
   "outputs": [],
   "source": [
    "\n",
    "import os\n",
    "import cv2\n",
    "import numpy as np\n",
    "from typing import Generator\n",
    "\n",
    "def sem_generator(data_path : str):\n",
    "    for f_num in sorted(os.listdir(data_path)):\n",
    "        f_path = os.path.join(data_path,f_num)\n",
    "        f_number = int(f_num[1:])\n",
    "        for file_name in sorted(os.listdir(f_path)):\n",
    "            file_path = os.path.join(f_path,file_name)\n",
    "            # print(f_num)\n",
    "            img_info = file_name.split('.')[0].split('_')\n",
    "            f_num, image_idx = img_info\n",
    "            \n",
    "            \n",
    "            img = cv2.imread(file_path,cv2.IMREAD_GRAYSCALE)\n",
    "            \n",
    "            yield [f\"F{f_number:02d}\", int(image_idx),img]\n",
    "\n",
    "def generate_top_bottom_crop_image(data_path : str,generator : Generator[str,int,np.array],pad=256,save=True):\n",
    "    save_dir = data_path+\"_1792x3072\"\n",
    "    os.makedirs(save_dir,exist_ok=True)\n",
    "    for img in generator:\n",
    "        # print(img[:3])\n",
    "        f_num, image_idx = img[:2]\n",
    "    \n",
    "        img = img[-1][pad:-pad,:]\n",
    "        #print(img.shape) # (1792, 3072)\n",
    "        #plt.imshow(img,cmap='gray')\n",
    "        file_name = f\"{f_num}_{image_idx:02d}.png\"\n",
    "        f_path = os.path.join(save_dir,f_num)\n",
    "        os.makedirs(f_path,exist_ok=True)\n",
    "        file_path = os.path.join(f_path,file_name)\n",
    "        # print(file_name)\n",
    "        if save is True:\n",
    "            cv2.imwrite(file_path,img)\n",
    "        \n",
    "    return save_dir"
   ]
  },
  {
   "cell_type": "code",
   "execution_count": 22,
   "metadata": {},
   "outputs": [
    {
     "data": {
      "text/plain": [
       "'../dataset_1792x3072'"
      ]
     },
     "execution_count": 22,
     "metadata": {},
     "output_type": "execute_result"
    }
   ],
   "source": [
    "generate_top_bottom_crop_image('../dataset',sem_generator('../dataset'),pad=256,save=True)"
   ]
  },
  {
   "cell_type": "code",
   "execution_count": 2,
   "metadata": {},
   "outputs": [
    {
     "data": {
      "text/plain": [
       "1536"
      ]
     },
     "execution_count": 2,
     "metadata": {},
     "output_type": "execute_result"
    }
   ],
   "source": [
    "2048 - 512"
   ]
  },
  {
   "cell_type": "code",
   "execution_count": 6,
   "metadata": {},
   "outputs": [
    {
     "data": {
      "text/plain": [
       "'../dataset_1792x3072_aligned/F64'"
      ]
     },
     "execution_count": 6,
     "metadata": {},
     "output_type": "execute_result"
    }
   ],
   "source": [
    "import shutil\n",
    "data_path = '../dataset_1792x3072'\n",
    "aligned_data_path=f\"{data_path}_aligned\"\n",
    "shutil.copytree(f\"{data_path}/F64\",f\"{aligned_data_path}/F64\")"
   ]
  },
  {
   "cell_type": "code",
   "execution_count": 1,
   "metadata": {},
   "outputs": [
    {
     "name": "stdout",
     "output_type": "stream",
     "text": [
      "1_crop_top_bottom.py\t make_patch.log\t\ttest.ipynb\n",
      "2_get_alignment_info.py  make_patch.py\t\tvalidate_dataset.ipynb\n",
      "3_align_images.py\t run_make_patch.sh\n",
      "core\t\t\t shift_info_231010.txt\n"
     ]
    }
   ],
   "source": [
    "!ls"
   ]
  },
  {
   "cell_type": "code",
   "execution_count": 2,
   "metadata": {},
   "outputs": [
    {
     "data": {
      "text/plain": [
       "['../train_Samsung_SNU_patches.hdf5', '../test_Samsung_SNU_patches.hdf5']"
      ]
     },
     "execution_count": 2,
     "metadata": {},
     "output_type": "execute_result"
    }
   ],
   "source": [
    "from glob import glob\n",
    "glob(\"../*.hdf5\")"
   ]
  },
  {
   "cell_type": "code",
   "execution_count": 6,
   "metadata": {},
   "outputs": [
    {
     "name": "stdout",
     "output_type": "stream",
     "text": [
      "<KeysViewHDF5 ['F01', 'F02', 'F04', 'F08', 'F16', 'F32', 'F64']>\n",
      "F01 (21600, 256, 256)\n",
      "F02 (21600, 256, 256)\n",
      "F04 (21600, 256, 256)\n",
      "F08 (21600, 256, 256)\n",
      "F16 (21600, 256, 256)\n",
      "F32 (21600, 256, 256)\n",
      "F64 (21600, 256, 256)\n",
      "<KeysViewHDF5 ['F01', 'F02', 'F04', 'F08', 'F16', 'F32', 'F64']>\n",
      "F01 (1440, 256, 256)\n",
      "F02 (1440, 256, 256)\n",
      "F04 (1440, 256, 256)\n",
      "F08 (1440, 256, 256)\n",
      "F16 (1440, 256, 256)\n",
      "F32 (1440, 256, 256)\n",
      "F64 (1440, 256, 256)\n"
     ]
    }
   ],
   "source": [
    "import h5py\n",
    "for file in glob(\"../*.hdf5\"):\n",
    "    with h5py.File(file,'r') as f:\n",
    "        print(f.keys())\n",
    "        for key in f.keys():\n",
    "            print(key,f[key].shape)\n",
    "        "
   ]
  },
  {
   "cell_type": "code",
   "execution_count": null,
   "metadata": {},
   "outputs": [],
   "source": []
  }
 ],
 "metadata": {
  "kernelspec": {
   "display_name": "env",
   "language": "python",
   "name": "python3"
  },
  "language_info": {
   "codemirror_mode": {
    "name": "ipython",
    "version": 3
   },
   "file_extension": ".py",
   "mimetype": "text/x-python",
   "name": "python",
   "nbconvert_exporter": "python",
   "pygments_lexer": "ipython3",
   "version": "3.9.13"
  },
  "orig_nbformat": 4
 },
 "nbformat": 4,
 "nbformat_minor": 2
}
