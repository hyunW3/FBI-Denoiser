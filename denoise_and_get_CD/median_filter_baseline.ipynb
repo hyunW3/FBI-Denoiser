{
 "cells": [
  {
   "cell_type": "code",
   "execution_count": 1,
   "id": "725b06bb-08ef-4e3f-aa62-f0b9287f441b",
   "metadata": {},
   "outputs": [],
   "source": [
    "import numpy as np\n",
    "import h5py\n",
    "import cv2\n",
    "import os, sys\n",
    "os.environ[\"CUDA_DEVICE_ORDER\"]=\"PCI_BUS_ID\"\n",
    "os.environ[\"CUDA_VISIBLE_DEVICES\"] = \"3\" # \"0,1,2,3\" # \"0\"\n",
    "import matplotlib.pyplot as plt\n",
    "from copy import deepcopy\n",
    "from core.median_filter import apply_median_filter_gpu_simple\n",
    "from core.CD_measure import *\n",
    "from skimage.metrics import *\n",
    "from skimage.metrics import peak_signal_noise_ratio as psnr\n",
    "from skimage.metrics import structural_similarity as ssim\n",
    "import json\n",
    "%load_ext autoreload\n",
    "%autoreload 2"
   ]
  },
  {
   "cell_type": "code",
   "execution_count": 2,
   "id": "bd863bfe-3a2f-40bc-95e9-9a3b19d2de17",
   "metadata": {},
   "outputs": [],
   "source": [
    "# samsung_images = {}\n",
    "# with h5py.File(\"../data/val_Samsung_SNU_patches_SET7_divided_by_fnum.hdf5\", 'r') as f:\n",
    "#     f1_images = np.array(f['F1'])\n",
    "#     f2_images = np.array(f['F2'])\n",
    "#     f4_images = np.array(f['F4'])\n",
    "#     f8_images = np.array(f['F8'])\n",
    "#     f16_images = np.array(f['F16'])\n",
    "#     f32_images = np.array(f['F32'])\n",
    "#     f64_images = np.array(f['F64'])\n",
    "#     for f_num in ['F1', 'F2', 'F4', 'F8', 'F16', 'F32', 'F64']:\n",
    "#         samsung_images[f_num] = np.array(f[f_num])"
   ]
  },
  {
   "cell_type": "code",
   "execution_count": 3,
   "id": "7b3ef1b9-5e2e-4236-8b88-f44f765b6585",
   "metadata": {},
   "outputs": [],
   "source": [
    "# for key,item in samsung_images.items():\n",
    "#     print(key,item.shape)"
   ]
  },
  {
   "cell_type": "code",
   "execution_count": 4,
   "id": "f78cde0d-4849-4928-acec-d11af408ce37",
   "metadata": {},
   "outputs": [],
   "source": [
    "pad = 150\n",
    "noisy_f_num_list = ['F01', 'F02', 'F04', 'F08']\n",
    "CD_dict ={}\n",
    "target = 'F16_v2'\n",
    "with open(f'./result_data/hole_info_{target}.txt', 'r') as f:\n",
    "    hole_info = json.load(f)\n",
    "def return_img(img_dict): \n",
    "    img_info = {}\n",
    "    for set_num in img_dict.keys():\n",
    "        for f_num in img_dict[set_num].keys():\n",
    "            for idx,img in enumerate(img_dict[set_num][f_num]):\n",
    "                img_info = {'set_num' : set_num, 'f_num' : f_num, 'idx' : idx}\n",
    "                yield img_info, img"
   ]
  },
  {
   "cell_type": "code",
   "execution_count": 5,
   "id": "53339ffc-16ab-43fd-90c7-76f6455bb72a",
   "metadata": {},
   "outputs": [],
   "source": [
    "img_dict = np.load(\"./intermediate_result/full_img_dict.npy\",allow_pickle=True).item()\n",
    "CD_dict = {}\n",
    "collect_metric_list = [\"avg_min_CD\", \"avg_max_CD\"]\n",
    "\n",
    "method_list = [\"median\"]\n",
    "print_img,save_img = False, False"
   ]
  },
  {
   "cell_type": "code",
   "execution_count": 6,
   "id": "39eda5c9-ecc8-40f3-ac74-4ecae70bf061",
   "metadata": {
    "scrolled": true,
    "tags": []
   },
   "outputs": [],
   "source": [
    "\n",
    "for img_info, img in return_img(img_dict):\n",
    "    if img_info['set_num'] != 'SET05'  and img_info['idx'] != 0 or img_info['f_num'] != 'F32':\n",
    "        continue\n",
    "\n",
    "    print(img_info, img.shape) # (1,x,y)\n",
    "    set_num, f_num, idx = img_info[\"set_num\"], img_info[\"f_num\"], img_info[\"idx\"]\n",
    "    key = f'{img_info[\"set_num\"]}_{img_info[\"f_num\"]}_{img_info[\"idx\"]:02d}'\n",
    "    img_hole_info = hole_info[set_num]['F08'][idx]\n",
    "    CD_dict[key] = {}\n",
    "    for method in method_list:\n",
    "        target_model = apply_median_filter_gpu_simple\n",
    "        print(f\"===== {method}  CD measure =====\")\n",
    "        CD_info_ours = CD_process(target_model, img, img_info, img_hole_info, pad,print_img,save_img)\n",
    "        CD_dict = get_metric(CD_dict, CD_info_ours,key, collect_metric_list, method)\n",
    "    if img_info['set_num'] == 'SET02':\n",
    "        break\n",
    "        print(CD_dict)"
   ]
  },
  {
   "cell_type": "code",
   "execution_count": 7,
   "id": "bcaaa62a-a8d1-4952-9c5b-58c27961fa4f",
   "metadata": {},
   "outputs": [
    {
     "data": {
      "text/plain": [
       "{}"
      ]
     },
     "execution_count": 7,
     "metadata": {},
     "output_type": "execute_result"
    }
   ],
   "source": [
    "CD_dict"
   ]
  },
  {
   "cell_type": "code",
   "execution_count": 10,
   "id": "bd5cae9f-abc6-4775-8e85-bb8a91b45474",
   "metadata": {},
   "outputs": [
    {
     "name": "stdout",
     "output_type": "stream",
     "text": [
      "{'set_num': 'SET01', 'f_num': 'F08', 'idx': 0} (1, 1474, 3010)\n",
      "{'set_num': 'SET01', 'f_num': 'F16', 'idx': 0} (1, 1474, 3010)\n",
      "{'set_num': 'SET01', 'f_num': 'F32', 'idx': 0} (1, 1474, 3010)\n",
      "{'set_num': 'SET01', 'f_num': 'F64', 'idx': 0} (1, 1474, 3010)\n"
     ]
    }
   ],
   "source": [
    "\n",
    "for img_info, img in return_img(img_dict):\n",
    "    if img_info['set_num'] != 'SET05' and img_info['idx'] != 0:\n",
    "        continue\n",
    "    \n",
    "    print(img_info, img.shape) # (1,x,y)\n",
    "    set_num, f_num, idx = img_info[\"set_num\"], img_info[\"f_num\"], img_info[\"idx\"]\n",
    "    key = f'{img_info[\"set_num\"]}_{img_info[\"f_num\"]}_{img_info[\"idx\"]:02d}'\n",
    "    img_hole_info = hole_info[set_num]['F08'][idx]\n",
    "    \n",
    "    save_hole_img(img,img_info, img_hole_info,pad)\n",
    "    if img_info['f_num'] == 'F64':\n",
    "        break"
   ]
  },
  {
   "cell_type": "code",
   "execution_count": 9,
   "id": "d93a76da-9aaf-42f9-abb2-ee81055b1c55",
   "metadata": {},
   "outputs": [
    {
     "ename": "SystemExit",
     "evalue": "-1",
     "output_type": "error",
     "traceback": [
      "An exception has occurred, use %tb to see the full traceback.\n",
      "\u001b[0;31mSystemExit\u001b[0m\u001b[0;31m:\u001b[0m -1\n"
     ]
    },
    {
     "name": "stderr",
     "output_type": "stream",
     "text": [
      "/mnt/ssd/hyun/fbi-net/env/lib/python3.9/site-packages/IPython/core/interactiveshell.py:3406: UserWarning: To exit: use 'exit', 'quit', or Ctrl-D.\n",
      "  warn(\"To exit: use 'exit', 'quit', or Ctrl-D.\", stacklevel=1)\n"
     ]
    }
   ],
   "source": [
    "sys.exit(-1)"
   ]
  },
  {
   "cell_type": "code",
   "execution_count": null,
   "id": "4fd9cd03-9f8c-4ba6-9719-ba08f9d20da1",
   "metadata": {},
   "outputs": [],
   "source": [
    "for f_num in ['F1', 'F2', 'F4', 'F8', 'F16', 'F32']:\n",
    "    avg_psnr = []\n",
    "    avg_ssim = []\n",
    "    for noisy, clean in zip(samsung_images[f_num], samsung_images['F64']):\n",
    "        denoised_img = apply_median_filter(noisy)\n",
    "        avg_psnr.append(psnr(clean,denoised_img))\n",
    "        avg_ssim.append(ssim(clean,denoised_img))\n",
    "    print(f\"==== {f_num} denoised result ====\")\n",
    "    print(f\"PSNR : {np.mean(avg_psnr):.6f} SSIM : {np.mean(avg_ssim):.6f}\")\n",
    "    print(f\"{np.mean(avg_psnr):.6f}\\t{np.mean(avg_ssim):.6f}\")"
   ]
  },
  {
   "cell_type": "code",
   "execution_count": null,
   "id": "7c7aea6d-898a-4b89-8a95-f0e54eee3300",
   "metadata": {},
   "outputs": [],
   "source": []
  }
 ],
 "metadata": {
  "kernelspec": {
   "display_name": "Python 3 (ipykernel)",
   "language": "python",
   "name": "python3"
  },
  "language_info": {
   "codemirror_mode": {
    "name": "ipython",
    "version": 3
   },
   "file_extension": ".py",
   "mimetype": "text/x-python",
   "name": "python",
   "nbconvert_exporter": "python",
   "pygments_lexer": "ipython3",
   "version": "3.9.13"
  }
 },
 "nbformat": 4,
 "nbformat_minor": 5
}
