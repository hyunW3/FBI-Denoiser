{
 "cells": [
  {
   "cell_type": "code",
   "execution_count": null,
   "id": "725b06bb-08ef-4e3f-aa62-f0b9287f441b",
   "metadata": {},
   "outputs": [],
   "source": [
    "import numpy as np\n",
    "import h5py\n",
    "import cv2\n",
    "import os, sys\n",
    "import matplotlib.pyplot as plt\n",
    "from copy import deepcopy\n",
    "from scipy.ndimage import median_filter\n",
    "from skimage.metrics import *\n",
    "from skimage.metrics import peak_signal_noise_ratio as psnr\n",
    "from skimage.metrics import structural_similarity as ssim\n",
    "%load_ext autoreload\n",
    "%autoreload 2"
   ]
  },
  {
   "cell_type": "code",
   "execution_count": null,
   "id": "09327c40-a1a2-41a4-a5de-d6a869d074bd",
   "metadata": {},
   "outputs": [],
   "source": [
    "peak_signal_noise_ratio?"
   ]
  },
  {
   "cell_type": "code",
   "execution_count": null,
   "id": "44eeecf5-9767-43de-9dc0-277915cb746f",
   "metadata": {},
   "outputs": [],
   "source": [
    "!ls ../data/val_Samsung_SNU_patches_SET7_divided_by_fnum.hdf5\n"
   ]
  },
  {
   "cell_type": "code",
   "execution_count": null,
   "id": "bd863bfe-3a2f-40bc-95e9-9a3b19d2de17",
   "metadata": {},
   "outputs": [],
   "source": [
    "samsung_images = {}\n",
    "with h5py.File(\"../data/val_Samsung_SNU_patches_SET7_divided_by_fnum.hdf5\", 'r') as f:\n",
    "    f1_images = np.array(f['F1'])\n",
    "    f2_images = np.array(f['F2'])\n",
    "    f4_images = np.array(f['F4'])\n",
    "    f8_images = np.array(f['F8'])\n",
    "    f16_images = np.array(f['F16'])\n",
    "    f32_images = np.array(f['F32'])\n",
    "    f64_images = np.array(f['F64'])\n",
    "    for f_num in ['F1', 'F2', 'F4', 'F8', 'F16', 'F32', 'F64']:\n",
    "        samsung_images[f_num] = np.array(f[f_num])"
   ]
  },
  {
   "cell_type": "code",
   "execution_count": null,
   "id": "7b3ef1b9-5e2e-4236-8b88-f44f765b6585",
   "metadata": {},
   "outputs": [],
   "source": [
    "for key,item in samsung_images.items():\n",
    "    print(key,item.shape)"
   ]
  },
  {
   "cell_type": "code",
   "execution_count": null,
   "id": "0add1f21-b82d-46fb-bced-3e2ba1861903",
   "metadata": {},
   "outputs": [],
   "source": [
    "def apply_median_filter(img : np.array ,kernel_size  : tuple = (11,11), repeat: int =3 ,plot : bool =False):\n",
    "    out = deepcopy(img)\n",
    "    if plot is True:\n",
    "        plt.title(f'before iter')\n",
    "        plt.imshow(out[:200,:200])\n",
    "        plt.pause(0.01)\n",
    "        plt.figure(figsize=(20,4))\n",
    "        plt.plot(out[50][:200])\n",
    "        plt.pause(0.01)\n",
    "    for i in range(repeat):\n",
    "        out = median_filter(out,kernel_size)\n",
    "        if plot is True:\n",
    "            plt.title(f'{i+1} iter')\n",
    "            plt.imshow(out[:200,:200])\n",
    "            plt.pause(0.01)\n",
    "            plt.figure(figsize=(20,4))\n",
    "            plt.plot(out[50][:200])\n",
    "            plt.pause(0.01)\n",
    "    return out"
   ]
  },
  {
   "cell_type": "code",
   "execution_count": null,
   "id": "4fd9cd03-9f8c-4ba6-9719-ba08f9d20da1",
   "metadata": {},
   "outputs": [],
   "source": [
    "for f_num in ['F1', 'F2', 'F4', 'F8', 'F16', 'F32']:\n",
    "    avg_psnr = []\n",
    "    avg_ssim = []\n",
    "    for noisy, clean in zip(samsung_images[f_num], samsung_images['F64']):\n",
    "        denoised_img = apply_median_filter(noisy)\n",
    "        avg_psnr.append(psnr(clean,denoised_img))\n",
    "        avg_ssim.append(ssim(clean,denoised_img))\n",
    "    print(f\"==== {f_num} denoised result ====\")\n",
    "    print(f\"PSNR : {np.mean(avg_psnr):.6f} SSIM : {np.mean(avg_ssim):.6f}\")\n",
    "    print(f\"{np.mean(avg_psnr):.6f}\\t{np.mean(avg_ssim):.6f}\")"
   ]
  },
  {
   "cell_type": "code",
   "execution_count": 1,
   "id": "280800df-115c-4fcb-895f-435fce7b8631",
   "metadata": {},
   "outputs": [
    {
     "data": {
      "text/plain": [
       "\u001b[0;31mSignature:\u001b[0m\n",
       "\u001b[0mpd\u001b[0m\u001b[0;34m.\u001b[0m\u001b[0mDataFrame\u001b[0m\u001b[0;34m.\u001b[0m\u001b[0mfrom_dict\u001b[0m\u001b[0;34m(\u001b[0m\u001b[0;34m\u001b[0m\n",
       "\u001b[0;34m\u001b[0m    \u001b[0mdata\u001b[0m\u001b[0;34m,\u001b[0m\u001b[0;34m\u001b[0m\n",
       "\u001b[0;34m\u001b[0m    \u001b[0morient\u001b[0m\u001b[0;34m:\u001b[0m \u001b[0;34m'str'\u001b[0m \u001b[0;34m=\u001b[0m \u001b[0;34m'columns'\u001b[0m\u001b[0;34m,\u001b[0m\u001b[0;34m\u001b[0m\n",
       "\u001b[0;34m\u001b[0m    \u001b[0mdtype\u001b[0m\u001b[0;34m:\u001b[0m \u001b[0;34m'Dtype | None'\u001b[0m \u001b[0;34m=\u001b[0m \u001b[0;32mNone\u001b[0m\u001b[0;34m,\u001b[0m\u001b[0;34m\u001b[0m\n",
       "\u001b[0;34m\u001b[0m    \u001b[0mcolumns\u001b[0m\u001b[0;34m=\u001b[0m\u001b[0;32mNone\u001b[0m\u001b[0;34m,\u001b[0m\u001b[0;34m\u001b[0m\n",
       "\u001b[0;34m\u001b[0m\u001b[0;34m)\u001b[0m \u001b[0;34m->\u001b[0m \u001b[0;34m'DataFrame'\u001b[0m\u001b[0;34m\u001b[0m\u001b[0;34m\u001b[0m\u001b[0m\n",
       "\u001b[0;31mDocstring:\u001b[0m\n",
       "Construct DataFrame from dict of array-like or dicts.\n",
       "\n",
       "Creates DataFrame object from dictionary by columns or by index\n",
       "allowing dtype specification.\n",
       "\n",
       "Parameters\n",
       "----------\n",
       "data : dict\n",
       "    Of the form {field : array-like} or {field : dict}.\n",
       "orient : {'columns', 'index', 'tight'}, default 'columns'\n",
       "    The \"orientation\" of the data. If the keys of the passed dict\n",
       "    should be the columns of the resulting DataFrame, pass 'columns'\n",
       "    (default). Otherwise if the keys should be rows, pass 'index'.\n",
       "    If 'tight', assume a dict with keys ['index', 'columns', 'data',\n",
       "    'index_names', 'column_names'].\n",
       "\n",
       "    .. versionadded:: 1.4.0\n",
       "       'tight' as an allowed value for the ``orient`` argument\n",
       "\n",
       "dtype : dtype, default None\n",
       "    Data type to force, otherwise infer.\n",
       "columns : list, default None\n",
       "    Column labels to use when ``orient='index'``. Raises a ValueError\n",
       "    if used with ``orient='columns'`` or ``orient='tight'``.\n",
       "\n",
       "Returns\n",
       "-------\n",
       "DataFrame\n",
       "\n",
       "See Also\n",
       "--------\n",
       "DataFrame.from_records : DataFrame from structured ndarray, sequence\n",
       "    of tuples or dicts, or DataFrame.\n",
       "DataFrame : DataFrame object creation using constructor.\n",
       "DataFrame.to_dict : Convert the DataFrame to a dictionary.\n",
       "\n",
       "Examples\n",
       "--------\n",
       "By default the keys of the dict become the DataFrame columns:\n",
       "\n",
       ">>> data = {'col_1': [3, 2, 1, 0], 'col_2': ['a', 'b', 'c', 'd']}\n",
       ">>> pd.DataFrame.from_dict(data)\n",
       "   col_1 col_2\n",
       "0      3     a\n",
       "1      2     b\n",
       "2      1     c\n",
       "3      0     d\n",
       "\n",
       "Specify ``orient='index'`` to create the DataFrame using dictionary\n",
       "keys as rows:\n",
       "\n",
       ">>> data = {'row_1': [3, 2, 1, 0], 'row_2': ['a', 'b', 'c', 'd']}\n",
       ">>> pd.DataFrame.from_dict(data, orient='index')\n",
       "       0  1  2  3\n",
       "row_1  3  2  1  0\n",
       "row_2  a  b  c  d\n",
       "\n",
       "When using the 'index' orientation, the column names can be\n",
       "specified manually:\n",
       "\n",
       ">>> pd.DataFrame.from_dict(data, orient='index',\n",
       "...                        columns=['A', 'B', 'C', 'D'])\n",
       "       A  B  C  D\n",
       "row_1  3  2  1  0\n",
       "row_2  a  b  c  d\n",
       "\n",
       "Specify ``orient='tight'`` to create the DataFrame using a 'tight'\n",
       "format:\n",
       "\n",
       ">>> data = {'index': [('a', 'b'), ('a', 'c')],\n",
       "...         'columns': [('x', 1), ('y', 2)],\n",
       "...         'data': [[1, 3], [2, 4]],\n",
       "...         'index_names': ['n1', 'n2'],\n",
       "...         'column_names': ['z1', 'z2']}\n",
       ">>> pd.DataFrame.from_dict(data, orient='tight')\n",
       "z1     x  y\n",
       "z2     1  2\n",
       "n1 n2\n",
       "a  b   1  3\n",
       "   c   2  4\n",
       "\u001b[0;31mFile:\u001b[0m      /mnt/ssd/hyun/fbi-net/env/lib/python3.9/site-packages/pandas/core/frame.py\n",
       "\u001b[0;31mType:\u001b[0m      method\n"
      ]
     },
     "metadata": {},
     "output_type": "display_data"
    }
   ],
   "source": [
    "import pandas as pd\n",
    "pd.DataFrame.from_dict?"
   ]
  },
  {
   "cell_type": "code",
   "execution_count": null,
   "id": "7331bd9f-0136-422b-af49-88918f68d289",
   "metadata": {},
   "outputs": [],
   "source": [
    "images_denoised_with_median_filter = {}"
   ]
  }
 ],
 "metadata": {
  "kernelspec": {
   "display_name": "Python 3 (ipykernel)",
   "language": "python",
   "name": "python3"
  },
  "language_info": {
   "codemirror_mode": {
    "name": "ipython",
    "version": 3
   },
   "file_extension": ".py",
   "mimetype": "text/x-python",
   "name": "python",
   "nbconvert_exporter": "python",
   "pygments_lexer": "ipython3",
   "version": "3.9.13"
  }
 },
 "nbformat": 4,
 "nbformat_minor": 5
}
