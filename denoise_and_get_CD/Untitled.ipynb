{
 "cells": [
  {
   "cell_type": "code",
   "execution_count": 1,
   "id": "a95e56a4-daa1-4ba2-a3f0-761b4d9a65f4",
   "metadata": {},
   "outputs": [],
   "source": [
    "import os"
   ]
  },
  {
   "cell_type": "code",
   "execution_count": 3,
   "id": "52097143-18e0-4b89-996f-70fe2cd6e78e",
   "metadata": {},
   "outputs": [
    {
     "data": {
      "text/plain": [
       "True"
      ]
     },
     "execution_count": 3,
     "metadata": {},
     "output_type": "execute_result"
    }
   ],
   "source": [
    "os.path.isfile(\"./result_data/CD_dict_F16_v2&F16_v2&median_median.csv\")"
   ]
  },
  {
   "cell_type": "code",
   "execution_count": null,
   "id": "9511e4b7-0602-4f4e-be21-7bf467214f7d",
   "metadata": {},
   "outputs": [],
   "source": []
  }
 ],
 "metadata": {
  "kernelspec": {
   "display_name": "Python 3 (ipykernel)",
   "language": "python",
   "name": "python3"
  },
  "language_info": {
   "codemirror_mode": {
    "name": "ipython",
    "version": 3
   },
   "file_extension": ".py",
   "mimetype": "text/x-python",
   "name": "python",
   "nbconvert_exporter": "python",
   "pygments_lexer": "ipython3",
   "version": "3.9.13"
  }
 },
 "nbformat": 4,
 "nbformat_minor": 5
}
