{
 "cells": [
  {
   "cell_type": "code",
   "execution_count": 1,
   "id": "f97a9215-5a74-42d3-b2f2-a6fe46754fae",
   "metadata": {},
   "outputs": [],
   "source": [
    "import os \n",
    "os.environ[\"CUDA_DEVICE_ORDER\"]=\"PCI_BUS_ID\"\n",
    "os.environ[\"CUDA_VISIBLE_DEVICES\"] = \"0\" # \"0,1,2,3\" # \"0\""
   ]
  },
  {
   "cell_type": "code",
   "execution_count": 2,
   "id": "030eb0c1-2b67-44cc-bca7-55b0812a0322",
   "metadata": {},
   "outputs": [],
   "source": [
    "import numpy as np\n",
    "import h5py\n",
    "import cv2\n",
    "import os, sys\n",
    "import argparse\n",
    "from core.get_args import get_args\n",
    "from core.produce_denoised_img import produce_denoised_img_no_crop\n",
    "from core.utils import TedataLoader\n",
    "from torch.utils.data import DataLoader\n",
    "import matplotlib.pyplot as plt\n",
    "from core.watershed import segmentation_with_masking\n",
    "from core.median_filter import apply_median_filter_cpu, apply_median_filter_gpu, apply_median_filter_gpu_simple\n",
    "%load_ext autoreload\n",
    "%autoreload 2"
   ]
  },
  {
   "cell_type": "markdown",
   "id": "0adc2576-339c-49d5-a91f-5d58f0db3d53",
   "metadata": {},
   "source": [
    "## Load denoised img & segmentation\n"
   ]
  },
  {
   "cell_type": "code",
   "execution_count": null,
   "id": "358801c3-2720-4614-bce4-72276fdde1a2",
   "metadata": {},
   "outputs": [],
   "source": []
  },
  {
   "cell_type": "code",
   "execution_count": null,
   "id": "54f287b4-8c8b-406e-a5fe-8d48ac22b5af",
   "metadata": {},
   "outputs": [],
   "source": [
    "img_dict = {}\n",
    "segmentation_dict = {}\n",
    "debug = False\n",
    "print_img=False\n",
    "# target_y = 'F08'\n",
    "# dataset_version = 'v2'\n",
    "# target = f\"{target_y}_{dataset_version}\"\n",
    "\n",
    "target_list = [f\"median_filter\"]\n",
    "for target in [['F02','v2'],['F04','v2'],['F08','v2'],['F16','v2'],['F16','v1']]:\n",
    "    target = f\"{target[0]}_{target[1]}\"\n",
    "    target_list.append(target)\n",
    "for target in target_list:\n",
    "    # print(target)\n",
    "    data_path = f\"./intermediate_result/denoised_img_{target}_img_dict.npy\"\n",
    "    print(data_path.split(\"/\")[2:])\n",
    "    img_dict = np.load(data_path,allow_pickle=True).item()\n",
    "\n",
    "    for set_num in img_dict.keys():\n",
    "        # print(img_dict[set_num].keys())\n",
    "        segmentation_dict[set_num] = {}\n",
    "        folder_name = f\"./segmentation_img/{target}\"\n",
    "        os.makedirs(f\"{folder_name}/{set_num}\", exist_ok=True)\n",
    "        for f_num in img_dict[set_num].keys():\n",
    "            # print(denoised_img_dict[set_num][f_num].shape)\n",
    "            segmentation_dict[set_num][f_num] = None\n",
    "            f_num = f_num[:3]\n",
    "            for idx,img in enumerate(img_dict[set_num][f_num]):\n",
    "                # print(img.shape,img.min(),img.max())\n",
    "                img_uint8 = (img[0]*255).astype('uint8') # [:-20]\n",
    "\n",
    "                # img_uint8 = apply_median_filter_gpu_simple(img_uint8,repeat=3)[0][0].astype('uint8')\n",
    "                # print(img_uint8.shape,img_uint8.min(),img_uint8.max())\n",
    "                r = segmentation_with_masking(img_uint8)\n",
    "                \n",
    "                # r = watershed_test(img_uint8)\n",
    "                if set_num == 'SET01' and f_num == 'F08' and idx == 0 and print_img is True:\n",
    "                    plt.title(f\"denoiser : {target}\\n{set_num}_{f_num}_{idx}\")\n",
    "                    # r[r>-1] = 1\n",
    "                    plt.imshow(r)\n",
    "                    plt.pause(0.01)\n",
    "                    \n",
    "                # cv2.imwrite(f\"./segmentation_img/{target}/{set_num}/{f_num}_{idx:02d}.png\",r)\n",
    "                r = np.expand_dims(r, axis=0)\n",
    "                if segmentation_dict[set_num][f_num] is None:  \n",
    "                    segmentation_dict[set_num][f_num] = r\n",
    "                else :\n",
    "                    segmentation_dict[set_num][f_num] = np.append(segmentation_dict[set_num][f_num],r,axis=0)\n",
    "        print(f\"==== {set_num} {f_num} segmentation complete ====\")\n",
    "    np.save(f\"./intermediate_result/segmentation_img_{target}.npy\",segmentation_dict)\n",
    "    print(\"save complete\",target)"
   ]
  },
  {
   "cell_type": "code",
   "execution_count": 11,
   "id": "8c195f26-e94f-439f-9326-59c59e55fcb2",
   "metadata": {},
   "outputs": [],
   "source": []
  },
  {
   "cell_type": "code",
   "execution_count": null,
   "id": "bbfebf55-a16b-4ccb-b480-1d57dc62c6ca",
   "metadata": {},
   "outputs": [],
   "source": []
  }
 ],
 "metadata": {
  "kernelspec": {
   "display_name": "Python 3 (ipykernel)",
   "language": "python",
   "name": "python3"
  },
  "language_info": {
   "codemirror_mode": {
    "name": "ipython",
    "version": 3
   },
   "file_extension": ".py",
   "mimetype": "text/x-python",
   "name": "python",
   "nbconvert_exporter": "python",
   "pygments_lexer": "ipython3",
   "version": "3.9.13"
  },
  "vscode": {
   "interpreter": {
    "hash": "cb627a9e4160391f8e8950c1f85219f47452817afefc75704f75fa6303b99fc0"
   }
  }
 },
 "nbformat": 4,
 "nbformat_minor": 5
}
