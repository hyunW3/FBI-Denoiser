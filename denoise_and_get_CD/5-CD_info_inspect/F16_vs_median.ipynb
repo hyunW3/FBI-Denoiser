{
 "cells": [
  {
   "cell_type": "code",
   "execution_count": 5,
   "id": "f44acc36-fb78-4505-8e9a-1d728920e02f",
   "metadata": {},
   "outputs": [],
   "source": [
    "import os \n",
    "os.environ[\"CUDA_DEVICE_ORDER\"]=\"PCI_BUS_ID\"\n",
    "os.environ[\"CUDA_VISIBLE_DEVICES\"] = \"0\" \n",
    "import numpy as np\n",
    "import pandas as pd\n",
    "from glob import glob\n",
    "import json"
   ]
  },
  {
   "cell_type": "code",
   "execution_count": 2,
   "id": "966211b1-2888-4c9d-b44f-72681d85c8ca",
   "metadata": {},
   "outputs": [
    {
     "name": "stdout",
     "output_type": "stream",
     "text": [
      "../CD_info_F16_v2_150.txt  ../CD_info_F16_v2.txt  ../CD_info_median_filter.txt\n",
      "\n",
      "../CD_info_inspect:\n",
      "Untitled.ipynb\n"
     ]
    }
   ],
   "source": [
    "!ls ../CD*"
   ]
  },
  {
   "cell_type": "code",
   "execution_count": 27,
   "id": "0b6b000c-e0fb-47a3-9da0-de41440a85bc",
   "metadata": {},
   "outputs": [
    {
     "name": "stdout",
     "output_type": "stream",
     "text": [
      "../CD_info_F16_v2_150.txt\n",
      "../CD_info_median_filter.txt\n",
      "../CD_info_F16_v2.txt\n"
     ]
    }
   ],
   "source": [
    "CD_info = {}\n",
    "for path in glob(\"../CD_info*.txt\"):\n",
    "    print(path)\n",
    "    with open(path, 'r') as f:\n",
    "        data = json.load(f)\n",
    "    CD_info[\"_\".join(path.split(\"_\")[2:])[:-4]] = data\n",
    "    # break"
   ]
  },
  {
   "cell_type": "code",
   "execution_count": 28,
   "id": "87a3da58-0d49-4884-959f-ee262c70e956",
   "metadata": {},
   "outputs": [
    {
     "data": {
      "text/plain": [
       "dict_keys(['F16_v2_150', 'median_filter', 'F16_v2'])"
      ]
     },
     "execution_count": 28,
     "metadata": {},
     "output_type": "execute_result"
    }
   ],
   "source": [
    "CD_info.keys()"
   ]
  },
  {
   "cell_type": "code",
   "execution_count": 26,
   "id": "4245c482-b6cd-4533-bce6-5593133cb187",
   "metadata": {},
   "outputs": [
    {
     "data": {
      "text/plain": [
       "(145.4623817906771, dict_keys(['F32']))"
      ]
     },
     "execution_count": 26,
     "metadata": {},
     "output_type": "execute_result"
    }
   ],
   "source": [
    "CD_info['F16_v2_150']['SET01']['F08']['0']['avg_min_CD'], CD_info['median_filter']['SET01'].keys() #['F08']['0']['avg_min_CD']"
   ]
  },
  {
   "cell_type": "code",
   "execution_count": 30,
   "id": "71d4da0d-ad4d-4b56-b248-bc34d44d8fcd",
   "metadata": {},
   "outputs": [
    {
     "ename": "SyntaxError",
     "evalue": "invalid syntax (4179824894.py, line 27)",
     "output_type": "error",
     "traceback": [
      "\u001b[0;36m  Input \u001b[0;32mIn [30]\u001b[0;36m\u001b[0m\n\u001b[0;31m    if diff_avg_max <=1 and diff_avg_min < =1 :\u001b[0m\n\u001b[0m                                           ^\u001b[0m\n\u001b[0;31mSyntaxError\u001b[0m\u001b[0;31m:\u001b[0m invalid syntax\n"
     ]
    }
   ],
   "source": [
    "target = 'F16_v2_150'\n",
    "source = 'median_filter'\n",
    "total_num = 0\n",
    "success = 0 \n",
    "diff_max_list = []\n",
    "diff_min_list = []\n",
    "for set_num in CD_info[target].keys():\n",
    "    dst_dict = CD_info[target][set_num]\n",
    "    src_dict = CD_info[source][set_num]\n",
    "    for f_num in dst_dict.keys():\n",
    "        dst_dict_f = dst_dict[f_num]\n",
    "        src_dict_f = src_dict[f_num]\n",
    "        for idx in dst_dict_f.keys():\n",
    "            dst_info = dst_dict_f[idx]\n",
    "            src_info = src_dict_f[idx]\n",
    "            print(f\"=== info {target} vs {source} ====\")\n",
    "            print(f\"avg_min_CD : {dst_info['avg_min_CD']:.4f} vs {src_info['avg_min_CD']:.4f}\")\n",
    "            diff_avg_min = dst_info['avg_min_CD'] - src_info['avg_min_CD']\n",
    "            print(f\"-> Difference : {diff_avg_min:.4f}\")\n",
    "            print(f\"avg_max_CD : {src_info['avg_max_CD']:.4f} vs {src_info['avg_max_CD']:.4f}\")\n",
    "            diff_avg_max = dst_info['avg_max_CD'] - src_info['avg_max_CD']\n",
    "            print(f\"-> Difference : {diff_avg_max:.4f}\")\n",
    "            \n",
    "            diff_max_list.apend(diff_avg_max)\n",
    "            diff_min_list.apend(diff_avg_min)\n",
    "            total_num += 1\n",
    "            if diff_avg_max <=1 and diff_avg_min < =1 :\n",
    "                success +=1 \n",
    "print(f\"success rate : {success}/{total_num} ({100*success/total_num}%)\")\n",
    "print(f\"avg max diff : {np.mean(diff_max_list):.4f} \")\n",
    "print(f\"avg min diff : {np.mean(diff_min_list):.4f} \")"
   ]
  },
  {
   "cell_type": "code",
   "execution_count": null,
   "id": "9a64cf94-f2e0-4b05-b6e4-c4b42516cf5b",
   "metadata": {},
   "outputs": [],
   "source": []
  }
 ],
 "metadata": {
  "kernelspec": {
   "display_name": "Python 3 (ipykernel)",
   "language": "python",
   "name": "python3"
  },
  "language_info": {
   "codemirror_mode": {
    "name": "ipython",
    "version": 3
   },
   "file_extension": ".py",
   "mimetype": "text/x-python",
   "name": "python",
   "nbconvert_exporter": "python",
   "pygments_lexer": "ipython3",
   "version": "3.9.13"
  }
 },
 "nbformat": 4,
 "nbformat_minor": 5
}
