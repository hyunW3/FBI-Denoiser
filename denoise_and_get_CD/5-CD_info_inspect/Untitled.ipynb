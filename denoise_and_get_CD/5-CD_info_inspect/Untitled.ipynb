{
 "cells": [
  {
   "cell_type": "code",
   "execution_count": 4,
   "id": "756081d6-8070-45e0-882e-d696b61c3389",
   "metadata": {},
   "outputs": [],
   "source": [
    "import numpy as np"
   ]
  },
  {
   "cell_type": "code",
   "execution_count": 7,
   "id": "083e8fee-5189-442e-8e3c-e26a3ad01f12",
   "metadata": {},
   "outputs": [
    {
     "data": {
      "text/plain": [
       "array([], dtype=float64)"
      ]
     },
     "execution_count": 7,
     "metadata": {},
     "output_type": "execute_result"
    }
   ],
   "source": [
    "\n",
    "np.load(\"../sucess_key_F16_v2.npy\")"
   ]
  },
  {
   "cell_type": "code",
   "execution_count": 6,
   "id": "3ac10572-ae5b-43de-9128-6ba0340f36f7",
   "metadata": {},
   "outputs": [
    {
     "name": "stdout",
     "output_type": "stream",
     "text": [
      "../key.txt.npy\t../sucess_key_F16_v2.npy\n"
     ]
    }
   ],
   "source": [
    "!ls ../*key*"
   ]
  },
  {
   "cell_type": "code",
   "execution_count": null,
   "id": "e22e6d8a-bc5b-454f-bfab-1b4bc7b86607",
   "metadata": {},
   "outputs": [],
   "source": []
  }
 ],
 "metadata": {
  "kernelspec": {
   "display_name": "Python 3 (ipykernel)",
   "language": "python",
   "name": "python3"
  },
  "language_info": {
   "codemirror_mode": {
    "name": "ipython",
    "version": 3
   },
   "file_extension": ".py",
   "mimetype": "text/x-python",
   "name": "python",
   "nbconvert_exporter": "python",
   "pygments_lexer": "ipython3",
   "version": "3.9.13"
  }
 },
 "nbformat": 4,
 "nbformat_minor": 5
}
