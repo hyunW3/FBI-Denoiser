{
 "cells": [
  {
   "cell_type": "code",
   "execution_count": 1,
   "id": "042b1ad1-bb5e-476c-b1e0-6f2a62d09abe",
   "metadata": {},
   "outputs": [],
   "source": [
    "import os,sys \n",
    "from itertools import *"
   ]
  },
  {
   "cell_type": "code",
   "execution_count": 79,
   "id": "919dfc72-b623-4831-8dea-e0469778b25f",
   "metadata": {},
   "outputs": [],
   "source": [
    "knock_cmd = \"knockknock telegram \\\n",
    "    --token 1531143270:AAFTord-4Bi370ohc39wGyYhjGi7_VjZTwU \\\n",
    "    --chat-id 1597147353 \\\n",
    "\"\n",
    "py_file = \"python test_bm3d.py\"\n",
    "num_parallel_run = -1\n",
    "write_to_file = True\n",
    "notification_on = False\n",
    "sigma = list(range(5,80+1,5))\n",
    "# print(sigma)\n",
    "options = [['--sigma'],sigma] # ,['--test'],[1,2,3]"
   ]
  },
  {
   "cell_type": "code",
   "execution_count": 89,
   "id": "b8aa7632-762e-4b82-b1e5-015ea3f93573",
   "metadata": {},
   "outputs": [
    {
     "name": "stdout",
     "output_type": "stream",
     "text": [
      "python test_bm3d.py --sigma 5 &\n",
      "python test_bm3d.py --sigma 10 &\n",
      "python test_bm3d.py --sigma 15 &\n",
      "python test_bm3d.py --sigma 20 &\n",
      "python test_bm3d.py --sigma 25 &\n",
      "python test_bm3d.py --sigma 30 &\n",
      "python test_bm3d.py --sigma 35 &\n",
      "python test_bm3d.py --sigma 40 &\n",
      "python test_bm3d.py --sigma 45 &\n",
      "python test_bm3d.py --sigma 50 &\n",
      "python test_bm3d.py --sigma 55 &\n",
      "python test_bm3d.py --sigma 60 &\n",
      "python test_bm3d.py --sigma 65 &\n",
      "python test_bm3d.py --sigma 70 &\n",
      "python test_bm3d.py --sigma 75 &\n",
      "python test_bm3d.py --sigma 80\n"
     ]
    }
   ],
   "source": [
    "f = None\n",
    "cmd_name = f'cmd_{py_file.replace(\" \",\"_\")}.sh'\n",
    "if write_to_file is True:\n",
    "    f = open(cmd_name,'w')\n",
    "    f.write(\"#/bin/bash\\n\")\n",
    "combination = list(product(*options))\n",
    "for idx,option in enumerate(combination,start=1):\n",
    "    option = map(str,option)\n",
    "    option = \" \".join(option)\n",
    "    if idx == len(combination):\n",
    "        pass\n",
    "    elif idx%num_parallel_run != 0 or num_parallel_run == -1 :\n",
    "        option += \" &\"\n",
    "    \n",
    "    cmd = f\"{py_file} {option}\"\n",
    "    if notification_on is True:\n",
    "        cmd = f\"{knock_cmd} {cmd}\"\n",
    "    print(cmd)\n",
    "    if write_to_file is True:\n",
    "        f.write(cmd+\"\\n\")\n",
    "\n",
    "cmd = f'{knock_cmd} echo \"Training End\"'\n",
    "f.write(cmd +\"\\n\")\n",
    "if write_to_file is True:\n",
    "    f.close()\n",
    "    os.chmod(cmd_name,0o775)"
   ]
  },
  {
   "cell_type": "code",
   "execution_count": 12,
   "id": "423a4769-4e5b-446d-8f09-8f9a69ff5686",
   "metadata": {},
   "outputs": [],
   "source": [
    "# f_num_list = ['F8','F16','F32','F64']\n",
    "f_num_list = ['F8','F64']"
   ]
  },
  {
   "cell_type": "code",
   "execution_count": 13,
   "id": "8277e7ef-d484-48f9-9199-c98297df8369",
   "metadata": {},
   "outputs": [
    {
     "name": "stdout",
     "output_type": "stream",
     "text": [
      "./train_samsung_sem_MSE_AFFINE_permute_f_num_for_x_and_y.sh 1 F8 F64 &\n",
      "./train_samsung_sem_MSE_AFFINE_permute_f_num_for_x_and_y.sh 2 F8 F64 &\n",
      "./train_samsung_sem_MSE_AFFINE_permute_f_num_for_x_and_y.sh 3 F8 F64 &\n",
      "./train_samsung_sem_MSE_AFFINE_permute_f_num_for_x_and_y.sh 4 F8 F64 &\n"
     ]
    }
   ],
   "source": [
    "\n",
    "for x,y in combinations(f_num_list,2):\n",
    "    for set_num in [1,2,3,4]:\n",
    "        print(f\"./train_samsung_sem_MSE_AFFINE_permute_f_num_for_x_and_y.sh {set_num} {x} {y} &\")"
   ]
  },
  {
   "cell_type": "code",
   "execution_count": null,
   "id": "4b48ebfc-968a-4fc7-9177-8351298cba53",
   "metadata": {},
   "outputs": [],
   "source": [
    "f = None\n",
    "cmd_name = f'cmd_{py_file.replace(\" \",\"_\")}.sh'\n",
    "if write_to_file is True:\n",
    "    f = open(cmd_name,'w')\n",
    "    f.write(\"#/bin/bash\\n\")\n",
    "combination = list(product(*options))\n",
    "for idx,option in enumerate(combination,start=1):\n",
    "    option = map(str,option)\n",
    "    option = \" \".join(option)\n",
    "    if idx == len(combination):\n",
    "        pass\n",
    "    elif idx%num_parallel_run != 0 or num_parallel_run == -1 :\n",
    "        option += \" &\"\n",
    "    \n",
    "    cmd = f\"{py_file} {option}\"\n",
    "    if notification_on is True:\n",
    "        cmd = f\"{knock_cmd} {cmd}\"\n",
    "    print(cmd)\n",
    "    if write_to_file is True:\n",
    "        f.write(cmd+\"\\n\")\n",
    "\n",
    "cmd = f'{knock_cmd} echo \"Training End\"'\n",
    "f.write(cmd +\"\\n\")\n",
    "if write_to_file is True:\n",
    "    f.close()\n",
    "    os.chmod(cmd_name,0o775)"
   ]
  }
 ],
 "metadata": {
  "kernelspec": {
   "display_name": "Python 3 (ipykernel)",
   "language": "python",
   "name": "python3"
  },
  "language_info": {
   "codemirror_mode": {
    "name": "ipython",
    "version": 3
   },
   "file_extension": ".py",
   "mimetype": "text/x-python",
   "name": "python",
   "nbconvert_exporter": "python",
   "pygments_lexer": "ipython3",
   "version": "3.9.13"
  }
 },
 "nbformat": 4,
 "nbformat_minor": 5
}
