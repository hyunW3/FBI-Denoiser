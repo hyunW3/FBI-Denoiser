{
 "cells": [
  {
   "cell_type": "code",
   "execution_count": 3,
   "metadata": {},
   "outputs": [],
   "source": [
    "args = \"--nepochs 10 \\\n",
    "    --integrate-all-set --individual-noisy-input --x-f-num $X_F_NUM --y-f-num $Y_F_NUM \\\n",
    "    --wholedataset-version  \\\n",
    "    --date $DATE --seed 0 --noise-type 'Poisson-Gaussian' --loss-function 'MSE_Affine' \\\n",
    "    --model-type 'FBI_Net' --data-type $DATA_TYPE --data-name $DATA_NAME \\\n",
    "    --alpha $ALPHA --beta $BETA --batch-size $BATCH_SIZE --lr 0.001 --num-layers 17 \\\n",
    "    --num-filters 64 --crop-size 256\"\n",
    "args = args.split(\" \")"
   ]
  },
  {
   "cell_type": "code",
   "execution_count": 4,
   "metadata": {},
   "outputs": [],
   "source": [
    "variables = {\n",
    "    '$X_F_NUM': 'F01',\n",
    "    '$Y_F_NUM': 'F32',\n",
    "    '$OPTION': '',\n",
    "    '$DATE': '230922',\n",
    "    '$LOSS_FUNCTION': 'MSE_Affine',\n",
    "    '$ARCH': 'FBI_Net',\n",
    "    '$DATA_TYPE': 'Grayscale',\n",
    "    '$DATA_NAME': 'Samsung',\n",
    "    '$BATCH_SIZE': '1',\n",
    "    \n",
    "}"
   ]
  },
  {
   "cell_type": "code",
   "execution_count": 5,
   "metadata": {},
   "outputs": [
    {
     "data": {
      "text/plain": [
       "['--nepochs',\n",
       " '10',\n",
       " '--integrate-all-set',\n",
       " '--individual-noisy-input',\n",
       " '--x-f-num',\n",
       " '$X_F_NUM',\n",
       " '--y-f-num',\n",
       " '$Y_F_NUM',\n",
       " '--wholedataset-version',\n",
       " '--date',\n",
       " '$DATE',\n",
       " '--seed',\n",
       " '0',\n",
       " '--noise-type',\n",
       " \"'Poisson-Gaussian'\",\n",
       " '--loss-function',\n",
       " \"'MSE_Affine'\",\n",
       " '--model-type',\n",
       " \"'FBI_Net'\",\n",
       " '--data-type',\n",
       " '$DATA_TYPE',\n",
       " '--data-name',\n",
       " '$DATA_NAME',\n",
       " '--alpha',\n",
       " '$ALPHA',\n",
       " '--beta',\n",
       " '$BETA',\n",
       " '--batch-size',\n",
       " '$BATCH_SIZE',\n",
       " '--lr',\n",
       " '0.001',\n",
       " '--num-layers',\n",
       " '17',\n",
       " '--num-filters',\n",
       " '64',\n",
       " '--crop-size',\n",
       " '256']"
      ]
     },
     "execution_count": 5,
     "metadata": {},
     "output_type": "execute_result"
    }
   ],
   "source": [
    "filter_keyword = ['', '\\\\']\n",
    "args = list(filter(lambda x: x not in filter_keyword, args))\n",
    "# args.remove('$\\')\n",
    "args"
   ]
  },
  {
   "cell_type": "code",
   "execution_count": 6,
   "metadata": {},
   "outputs": [],
   "source": [
    "# replace string with dictionary\n",
    "for i, arg in enumerate(args):\n",
    "    if arg in variables.keys():\n",
    "        args[i] = variables[arg]\n",
    "args = list(map(str, args))"
   ]
  },
  {
   "cell_type": "code",
   "execution_count": 7,
   "metadata": {},
   "outputs": [
    {
     "data": {
      "text/plain": [
       "['--nepochs',\n",
       " '10',\n",
       " '--integrate-all-set',\n",
       " '--individual-noisy-input',\n",
       " '--x-f-num',\n",
       " 'F01',\n",
       " '--y-f-num',\n",
       " 'F32',\n",
       " '--wholedataset-version',\n",
       " '--date',\n",
       " '230922',\n",
       " '--seed',\n",
       " '0',\n",
       " '--noise-type',\n",
       " \"'Poisson-Gaussian'\",\n",
       " '--loss-function',\n",
       " \"'MSE_Affine'\",\n",
       " '--model-type',\n",
       " \"'FBI_Net'\",\n",
       " '--data-type',\n",
       " 'Grayscale',\n",
       " '--data-name',\n",
       " 'Samsung',\n",
       " '--alpha',\n",
       " '$ALPHA',\n",
       " '--beta',\n",
       " '$BETA',\n",
       " '--batch-size',\n",
       " '1',\n",
       " '--lr',\n",
       " '0.001',\n",
       " '--num-layers',\n",
       " '17',\n",
       " '--num-filters',\n",
       " '64',\n",
       " '--crop-size',\n",
       " '256']"
      ]
     },
     "execution_count": 7,
     "metadata": {},
     "output_type": "execute_result"
    }
   ],
   "source": [
    "args"
   ]
  },
  {
   "cell_type": "code",
   "execution_count": null,
   "metadata": {},
   "outputs": [],
   "source": []
  }
 ],
 "metadata": {
  "kernelspec": {
   "display_name": "fbi-net",
   "language": "python",
   "name": "python3"
  },
  "language_info": {
   "codemirror_mode": {
    "name": "ipython",
    "version": 3
   },
   "file_extension": ".py",
   "mimetype": "text/x-python",
   "name": "python",
   "nbconvert_exporter": "python",
   "pygments_lexer": "ipython3",
   "version": "3.9.13"
  },
  "orig_nbformat": 4
 },
 "nbformat": 4,
 "nbformat_minor": 2
}
