{
 "cells": [
  {
   "cell_type": "code",
   "execution_count": 2,
   "id": "d7ed6c05-52aa-4b5d-84c7-fc52b6b3b90f",
   "metadata": {},
   "outputs": [],
   "source": [
    "from skimage.metrics import *\n",
    "import os,sys,glob\n",
    "import cv2"
   ]
  },
  {
   "cell_type": "code",
   "execution_count": 3,
   "id": "99d1bab4-a25a-4b84-ad59-44623584f758",
   "metadata": {},
   "outputs": [
    {
     "name": "stdout",
     "output_type": "stream",
     "text": [
      "./Samsung_SNU/[SET 4]/F64/10_F64.png\n"
     ]
    }
   ],
   "source": [
    "F64_image_list = glob.glob(\"./Samsung_SNU/*/F64/*.png\")\n",
    "for img_path in F64_image_list:\n",
    "    print(img_path)\n",
    "    break"
   ]
  },
  {
   "cell_type": "code",
   "execution_count": 43,
   "id": "d077c8a4-6812-4e30-9a3a-52884e059048",
   "metadata": {},
   "outputs": [
    {
     "name": "stdout",
     "output_type": "stream",
     "text": [
      "==== test_Samsung_SNU_patches_SET1.hdf5 ====\n",
      "Best PSNR : 18.3662874\n",
      "PSNR : 15.9254667 SSIM : 0.1869227\n",
      "==== test_Samsung_SNU_patches_SET2.hdf5 ====\n",
      "Best PSNR : 20.5066519\n",
      "PSNR : 16.2683021 SSIM : 0.2581588\n",
      "==== test_Samsung_SNU_patches_SET3.hdf5 ====\n",
      "Best PSNR : 18.6025485\n",
      "PSNR : 17.0734647 SSIM : 0.2348011\n",
      "==== test_Samsung_SNU_patches_SET4.hdf5 ====\n",
      "Best PSNR : 19.3230456\n",
      "PSNR : 17.2530805 SSIM : 0.2456540\n"
     ]
    }
   ],
   "source": [
    "import h5py\n",
    "import numpy as np\n",
    "for set_file in sorted(glob.glob(\"test_Samsung_SNU_patches_SET*.hdf5\")):\n",
    "    print(f\"==== {set_file} ====\")\n",
    "    \n",
    "    with h5py.File(set_file,'r') as f:\n",
    "        avg_psnr, avg_ssim = [], []\n",
    "        best_psnr = None\n",
    "        for noisy, clean in zip(f['noisy_images'],f['clean_images']):\n",
    "            #print(noisy.shape, clean.shape)\n",
    "            psnr,ssim = peak_signal_noise_ratio(clean,noisy), structural_similarity(noisy,clean)\n",
    "            if best_psnr is None:\n",
    "                best_psnr = psnr\n",
    "            elif best_psnr < psnr:\n",
    "                best_psnr = psnr\n",
    "            avg_psnr.append(psnr)\n",
    "            avg_ssim.append(ssim)\n",
    "        print(f\"Best PSNR : {best_psnr:.7f}\")\n",
    "        print(f\"PSNR : {np.mean(avg_psnr):.7f} SSIM : {np.mean(avg_ssim):.7f}\")\n",
    "        "
   ]
  },
  {
   "cell_type": "code",
   "execution_count": 29,
   "id": "37a6f4bd-de1e-40cd-a5d7-ea088768c7fa",
   "metadata": {},
   "outputs": [
    {
     "name": "stdout",
     "output_type": "stream",
     "text": [
      "16.069\n"
     ]
    }
   ],
   "source": [
    "print(f\"{np.mean(avg_psnr):.3f}\")"
   ]
  },
  {
   "cell_type": "code",
   "execution_count": 35,
   "id": "92015f86-387c-45e6-840d-bf58fbf8a70d",
   "metadata": {},
   "outputs": [
    {
     "data": {
      "text/plain": [
       "['test_Samsung_SNU_patches_SET1.hdf5',\n",
       " 'test_Samsung_SNU_patches_SET2.hdf5',\n",
       " 'test_Samsung_SNU_patches_SET3.hdf5',\n",
       " 'test_Samsung_SNU_patches_SET4.hdf5']"
      ]
     },
     "execution_count": 35,
     "metadata": {},
     "output_type": "execute_result"
    }
   ],
   "source": []
  },
  {
   "cell_type": "code",
   "execution_count": null,
   "id": "b47489fd-c091-46b3-a32b-a5fd8c54d9b7",
   "metadata": {},
   "outputs": [],
   "source": []
  }
 ],
 "metadata": {
  "kernelspec": {
   "display_name": "Python 3 (ipykernel)",
   "language": "python",
   "name": "python3"
  },
  "language_info": {
   "codemirror_mode": {
    "name": "ipython",
    "version": 3
   },
   "file_extension": ".py",
   "mimetype": "text/x-python",
   "name": "python",
   "nbconvert_exporter": "python",
   "pygments_lexer": "ipython3",
   "version": "3.9.13"
  }
 },
 "nbformat": 4,
 "nbformat_minor": 5
}
