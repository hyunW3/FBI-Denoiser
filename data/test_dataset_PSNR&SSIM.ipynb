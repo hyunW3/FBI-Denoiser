{
 "cells": [
  {
   "cell_type": "code",
   "execution_count": 1,
   "id": "d7ed6c05-52aa-4b5d-84c7-fc52b6b3b90f",
   "metadata": {},
   "outputs": [],
   "source": [
    "from skimage.metrics import *\n",
    "import os,sys,glob\n",
    "import cv2"
   ]
  },
  {
   "cell_type": "code",
   "execution_count": 2,
   "id": "99d1bab4-a25a-4b84-ad59-44623584f758",
   "metadata": {},
   "outputs": [
    {
     "name": "stdout",
     "output_type": "stream",
     "text": [
      "./Samsung_SNU/[SET 4]/F64/10_F64.png\n"
     ]
    }
   ],
   "source": [
    "F64_image_list = glob.glob(\"./Samsung_SNU/*/F64/*.png\")\n",
    "for img_path in F64_image_list:\n",
    "    print(img_path)\n",
    "    break"
   ]
  },
  {
   "cell_type": "code",
   "execution_count": null,
   "id": "d077c8a4-6812-4e30-9a3a-52884e059048",
   "metadata": {},
   "outputs": [
    {
     "name": "stdout",
     "output_type": "stream",
     "text": [
      "==== train_Samsung_SNU_patches_SET1.hdf5 ====\n",
      "Best PSNR : 19.1818206\n",
      "PSNR : 17.2056329 SSIM : 0.2366187\n",
      "==== train_Samsung_SNU_patches_SET2.hdf5 ====\n"
     ]
    }
   ],
   "source": [
    "import h5py\n",
    "import numpy as np\n",
    "for set_file in sorted(glob.glob(\"train_Samsung_SNU_patches_SET*.hdf5\")):\n",
    "    print(f\"==== {set_file} ====\")\n",
    "    \n",
    "    with h5py.File(set_file,'r') as f:\n",
    "        avg_psnr, avg_ssim = [], []\n",
    "        best_psnr = None\n",
    "        for noisy, clean in zip(f['noisy_images'],f['clean_images']):\n",
    "            #print(noisy.shape, clean.shape)\n",
    "            psnr,ssim = peak_signal_noise_ratio(clean,noisy), structural_similarity(noisy,clean)\n",
    "            if best_psnr is None:\n",
    "                best_psnr = psnr\n",
    "            elif best_psnr < psnr:\n",
    "                best_psnr = psnr\n",
    "            avg_psnr.append(psnr)\n",
    "            avg_ssim.append(ssim)\n",
    "        print(f\"Best PSNR : {best_psnr:.7f}\")\n",
    "        print(f\"PSNR : {np.mean(avg_psnr):.7f} SSIM : {np.mean(avg_ssim):.7f}\")\n",
    "\"\"\"\n",
    "==== test_Samsung_SNU_patches_SET2.hdf5 ====\n",
    "Best PSNR : 19.2362128\n",
    "PSNR : 18.5380584 SSIM : 0.2983543\n",
    "\"\"\""
   ]
  },
  {
   "cell_type": "markdown",
   "id": "8f116b84-a05d-4b18-9f10-a88cac9712c4",
   "metadata": {},
   "source": [
    "==== test_Samsung_SNU_patches_SET1.hdf5 ====\n",
    "Best PSNR : 18.3662874\n",
    "PSNR : 15.9254667 SSIM : 0.1869227\n",
    "==== test_Samsung_SNU_patches_SET2.hdf5 ====\n",
    "Best PSNR : 20.5066519\n",
    "PSNR : 16.2683021 SSIM : 0.2581588\n",
    "==== test_Samsung_SNU_patches_SET3.hdf5 ====\n",
    "Best PSNR : 18.6025485\n",
    "PSNR : 17.0734647 SSIM : 0.2348011\n",
    "==== test_Samsung_SNU_patches_SET4.hdf5 ====\n",
    "Best PSNR : 19.3230456\n",
    "PSNR : 17.2530805 SSIM : 0.2456540\n",
    "\n",
    "==== val_Samsung_SNU_patches_SET1.hdf5 ====\n",
    "Best PSNR : 18.5683498\n",
    "PSNR : 16.2816840 SSIM : 0.1974223\n",
    "==== val_Samsung_SNU_patches_SET2.hdf5 ====\n",
    "Best PSNR : 19.7218867\n",
    "PSNR : 16.5003773 SSIM : 0.2963303\n",
    "==== val_Samsung_SNU_patches_SET3.hdf5 ====\n",
    "Best PSNR : 18.5771327\n",
    "PSNR : 17.2833930 SSIM : 0.2467734\n",
    "==== val_Samsung_SNU_patches_SET4.hdf5 ====\n",
    "Best PSNR : 19.1047915\n",
    "PSNR : 16.4206975 SSIM : 0.2165555\n"
   ]
  },
  {
   "cell_type": "code",
   "execution_count": 8,
   "id": "37a6f4bd-de1e-40cd-a5d7-ea088768c7fa",
   "metadata": {},
   "outputs": [
    {
     "name": "stdout",
     "output_type": "stream",
     "text": [
      "==== val_Samsung_SNU_patches_SET1.hdf5 ====\n",
      "Best PSNR : 18.7338535\n",
      "PSNR : 17.2264144 SSIM : 0.2347096\n",
      "==== val_Samsung_SNU_patches_SET2.hdf5 ====\n",
      "Best PSNR : 22.8147805\n",
      "PSNR : 20.5734852 SSIM : 0.3775165\n",
      "==== val_Samsung_SNU_patches_SET3.hdf5 ====\n",
      "Best PSNR : 18.3878408\n",
      "PSNR : 17.2713082 SSIM : 0.2477218\n",
      "==== val_Samsung_SNU_patches_SET4.hdf5 ====\n",
      "Best PSNR : 19.0397552\n",
      "PSNR : 17.7951026 SSIM : 0.2729054\n"
     ]
    }
   ],
   "source": [
    "import h5py\n",
    "import numpy as np\n",
    "for set_file in sorted(glob.glob(\"val_Samsung_SNU_patches_SET*.hdf5\")):\n",
    "    print(f\"==== {set_file} ====\")\n",
    "    \n",
    "    with h5py.File(set_file,'r') as f:\n",
    "        avg_psnr, avg_ssim = [], []\n",
    "        best_psnr = None\n",
    "        for noisy, clean in zip(f['noisy_images'],f['clean_images']):\n",
    "            #print(noisy.shape, clean.shape)\n",
    "            psnr,ssim = peak_signal_noise_ratio(clean,noisy), structural_similarity(noisy,clean)\n",
    "            if best_psnr is None:\n",
    "                best_psnr = psnr\n",
    "            elif best_psnr < psnr:\n",
    "                best_psnr = psnr\n",
    "            avg_psnr.append(psnr)\n",
    "            avg_ssim.append(ssim)\n",
    "        print(f\"Best PSNR : {best_psnr:.7f}\")\n",
    "        print(f\"PSNR : {np.mean(avg_psnr):.7f} SSIM : {np.mean(avg_ssim):.7f}\")\n",
    "        "
   ]
  },
  {
   "cell_type": "code",
   "execution_count": 7,
   "id": "92015f86-387c-45e6-840d-bf58fbf8a70d",
   "metadata": {},
   "outputs": [
    {
     "ename": "SyntaxError",
     "evalue": "EOF while scanning triple-quoted string literal (969763094.py, line 1)",
     "output_type": "error",
     "traceback": [
      "\u001b[0;36m  Input \u001b[0;32mIn [7]\u001b[0;36m\u001b[0m\n\u001b[0;31m    \"\"\"\u001b[0m\n\u001b[0m       ^\u001b[0m\n\u001b[0;31mSyntaxError\u001b[0m\u001b[0;31m:\u001b[0m EOF while scanning triple-quoted string literal\n"
     ]
    }
   ],
   "source": [
    "\"\"\"\n",
    "==== val_Samsung_SNU_patches_SET1.hdf5 ====\n",
    "Best PSNR : 18.7338535\n",
    "PSNR : 17.2264144 SSIM : 0.2347096\n",
    "==== val_Samsung_SNU_patches_SET2.hdf5 ====\n",
    "Best PSNR : 21.7579003\n",
    "PSNR : 20.4676979 SSIM : 0.3708612\n",
    "==== val_Samsung_SNU_patches_SET3.hdf5 ====\n",
    "Best PSNR : 18.3878408\n",
    "PSNR : 17.2713082 SSIM : 0.2477218\n",
    "==== val_Samsung_SNU_patches_SET4.hdf5 ====\n",
    "Best PSNR : 19.0397552\n",
    "PSNR : 17.7951026 SSIM : 0.2729054\n",
    "\"\"\""
   ]
  },
  {
   "cell_type": "code",
   "execution_count": 9,
   "id": "b47489fd-c091-46b3-a32b-a5fd8c54d9b7",
   "metadata": {},
   "outputs": [
    {
     "name": "stdout",
     "output_type": "stream",
     "text": [
      "==== test_Samsung_SNU_patches_SET1.hdf5 ====\n",
      "Best PSNR : 18.6846353\n",
      "PSNR : 17.1989941 SSIM : 0.2336277\n",
      "==== test_Samsung_SNU_patches_SET2.hdf5 ====\n",
      "Best PSNR : 22.1941044\n",
      "PSNR : 19.0108749 SSIM : 0.3253595\n",
      "==== test_Samsung_SNU_patches_SET3.hdf5 ====\n",
      "Best PSNR : 19.0591238\n",
      "PSNR : 17.6459176 SSIM : 0.2649869\n",
      "==== test_Samsung_SNU_patches_SET4.hdf5 ====\n",
      "Best PSNR : 19.7463755\n",
      "PSNR : 17.9415815 SSIM : 0.2759060\n"
     ]
    }
   ],
   "source": [
    "# validate test dataset pair match well\n",
    "import h5py\n",
    "import numpy as np\n",
    "for set_file in sorted(glob.glob(\"test_Samsung_SNU_patches_SET*.hdf5\")):\n",
    "    print(f\"==== {set_file} ====\")\n",
    "    \n",
    "    with h5py.File(set_file,'r') as f:\n",
    "        avg_psnr, avg_ssim = [], []\n",
    "        best_psnr = None\n",
    "        for noisy, clean in zip(f['noisy_images'],f['clean_images']):\n",
    "            #print(noisy.shape, clean.shape)\n",
    "            psnr,ssim = peak_signal_noise_ratio(clean,noisy), structural_similarity(noisy,clean)\n",
    "            if best_psnr is None:\n",
    "                best_psnr = psnr\n",
    "            elif best_psnr < psnr:\n",
    "                best_psnr = psnr\n",
    "            \n",
    "            avg_psnr.append(psnr)\n",
    "            avg_ssim.append(ssim)\n",
    "        print(f\"Best PSNR : {best_psnr:.7f}\")\n",
    "        print(f\"PSNR : {np.mean(avg_psnr):.7f} SSIM : {np.mean(avg_ssim):.7f}\")\n",
    "        "
   ]
  },
  {
   "cell_type": "code",
   "execution_count": null,
   "id": "91a416bc-b114-4b52-a8b3-7e1050f210dc",
   "metadata": {},
   "outputs": [],
   "source": [
    "\"\"\"\n",
    "==== test_Samsung_SNU_patches_SET1.hdf5 ====\n",
    "Best PSNR : 18.6846353\n",
    "PSNR : 17.1989941 SSIM : 0.2336277\n",
    "==== test_Samsung_SNU_patches_SET2.hdf5 ====\n",
    "Best PSNR : 19.2362128\n",
    "PSNR : 18.5380584 SSIM : 0.2983543\n",
    "==== test_Samsung_SNU_patches_SET3.hdf5 ====\n",
    "Best PSNR : 19.0591238\n",
    "PSNR : 17.6459176 SSIM : 0.2649869\n",
    "==== test_Samsung_SNU_patches_SET4.hdf5 ====\n",
    "Best PSNR : 19.7463755\n",
    "PSNR : 17.9415815 SSIM : 0.2759060\n",
    "\"\"\""
   ]
  }
 ],
 "metadata": {
  "kernelspec": {
   "display_name": "Python 3 (ipykernel)",
   "language": "python",
   "name": "python3"
  },
  "language_info": {
   "codemirror_mode": {
    "name": "ipython",
    "version": 3
   },
   "file_extension": ".py",
   "mimetype": "text/x-python",
   "name": "python",
   "nbconvert_exporter": "python",
   "pygments_lexer": "ipython3",
   "version": "3.9.13"
  }
 },
 "nbformat": 4,
 "nbformat_minor": 5
}
