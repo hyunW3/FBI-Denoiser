{
 "cells": [
  {
   "cell_type": "code",
   "execution_count": 2,
   "id": "d7ed6c05-52aa-4b5d-84c7-fc52b6b3b90f",
   "metadata": {},
   "outputs": [],
   "source": [
    "from skimage.metrics import *\n",
    "import os,sys,glob\n",
    "import cv2"
   ]
  },
  {
   "cell_type": "code",
   "execution_count": 3,
   "id": "99d1bab4-a25a-4b84-ad59-44623584f758",
   "metadata": {},
   "outputs": [
    {
     "name": "stdout",
     "output_type": "stream",
     "text": [
      "./Samsung_SNU/[SET 4]/F64/10_F64.png\n"
     ]
    }
   ],
   "source": [
    "F64_image_list = glob.glob(\"./Samsung_SNU/*/F64/*.png\")\n",
    "for img_path in F64_image_list:\n",
    "    print(img_path)\n",
    "    break"
   ]
  },
  {
   "cell_type": "code",
   "execution_count": 4,
   "id": "3f152500-d03c-4577-90c7-8c68ef6547b4",
   "metadata": {},
   "outputs": [
    {
     "name": "stdout",
     "output_type": "stream",
     "text": [
      "Mon Dec 19 07:08:38 UTC 2022\n"
     ]
    }
   ],
   "source": [
    "!date"
   ]
  },
  {
   "cell_type": "code",
   "execution_count": 4,
   "id": "d077c8a4-6812-4e30-9a3a-52884e059048",
   "metadata": {},
   "outputs": [
    {
     "name": "stdout",
     "output_type": "stream",
     "text": [
      "==== train_Samsung_SNU_patches_SET1.hdf5 ====\n",
      "Best PSNR : 19.2436534\n",
      "PSNR : 17.2403572 SSIM : 0.2380211\n",
      "==== train_Samsung_SNU_patches_SET2.hdf5 ====\n",
      "Best PSNR : 23.5822343\n",
      "PSNR : 19.8855881 SSIM : 0.3567126\n",
      "==== train_Samsung_SNU_patches_SET3.hdf5 ====\n",
      "Best PSNR : 19.2950959\n",
      "PSNR : 17.5134459 SSIM : 0.2609207\n",
      "==== train_Samsung_SNU_patches_SET4.hdf5 ====\n",
      "Best PSNR : 19.8449396\n",
      "PSNR : 17.9692123 SSIM : 0.2799131\n"
     ]
    },
    {
     "data": {
      "text/plain": [
       "'\\n==== test_Samsung_SNU_patches_SET2.hdf5 ====\\nBest PSNR : 19.2362128\\nPSNR : 18.5380584 SSIM : 0.2983543\\n'"
      ]
     },
     "execution_count": 4,
     "metadata": {},
     "output_type": "execute_result"
    }
   ],
   "source": [
    "import h5py\n",
    "import numpy as np\n",
    "for set_file in sorted(glob.glob(\"train_Samsung_SNU_patches_SET*.hdf5\")):\n",
    "    print(f\"==== {set_file} ====\")\n",
    "    \n",
    "    with h5py.File(set_file,'r') as f:\n",
    "        avg_psnr, avg_ssim = [], []\n",
    "        best_psnr = None\n",
    "        for noisy, clean in zip(f['noisy_images'],f['clean_images']):\n",
    "            #print(noisy.shape, clean.shape)\n",
    "            psnr,ssim = peak_signal_noise_ratio(clean,noisy), structural_similarity(noisy,clean)\n",
    "            if best_psnr is None:\n",
    "                best_psnr = psnr\n",
    "            elif best_psnr < psnr:\n",
    "                best_psnr = psnr\n",
    "            avg_psnr.append(psnr)\n",
    "            avg_ssim.append(ssim)\n",
    "        print(f\"Best PSNR : {best_psnr:.7f}\")\n",
    "        print(f\"PSNR : {np.mean(avg_psnr):.7f} SSIM : {np.mean(avg_ssim):.7f}\")\n",
    "\"\"\"\n",
    "==== test_Samsung_SNU_patches_SET2.hdf5 ====\n",
    "Best PSNR : 19.2362128\n",
    "PSNR : 18.5380584 SSIM : 0.2983543\n",
    "\"\"\""
   ]
  },
  {
   "cell_type": "code",
   "execution_count": 9,
   "id": "ba6c57c4-5bb8-4ad8-a585-563b3228c5f9",
   "metadata": {},
   "outputs": [
    {
     "name": "stdout",
     "output_type": "stream",
     "text": [
      "==== train_Samsung_SNU_patches_SET7_divided_by_fnum.hdf5 ====\n",
      "Best PSNR : 21.1825792\n",
      "PSNR : 21.0207868 SSIM : 0.4083135\n"
     ]
    },
    {
     "data": {
      "text/plain": [
       "'\\n==== test_Samsung_SNU_patches_SET2.hdf5 ====\\nBest PSNR : 19.2362128\\nPSNR : 18.5380584 SSIM : 0.2983543\\n'"
      ]
     },
     "execution_count": 9,
     "metadata": {},
     "output_type": "execute_result"
    }
   ],
   "source": [
    "import h5py\n",
    "import numpy as np\n",
    "for set_file in sorted(glob.glob(\"train_Samsung_SNU_patches_SET7_divided_by_fnum.hdf5\")):\n",
    "    print(f\"==== {set_file} ====\")\n",
    "    \n",
    "    with h5py.File(set_file,'r') as f:\n",
    "        avg_psnr, avg_ssim = [], []\n",
    "        best_psnr = None\n",
    "        for noisy, clean in zip(f['F16'],f['F64']):#zip(f['noisy_images'],f['clean_images']):\n",
    "            #print(noisy.shape, clean.shape)\n",
    "            psnr,ssim = peak_signal_noise_ratio(clean,noisy), structural_similarity(noisy,clean)\n",
    "            if best_psnr is None:\n",
    "                best_psnr = psnr\n",
    "            elif best_psnr < psnr:\n",
    "                best_psnr = psnr\n",
    "            avg_psnr.append(psnr)\n",
    "            avg_ssim.append(ssim)\n",
    "        print(f\"Best PSNR : {best_psnr:.7f}\")\n",
    "        print(f\"PSNR : {np.mean(avg_psnr):.7f} SSIM : {np.mean(avg_ssim):.7f}\")\n",
    "\"\"\"\n",
    "==== test_Samsung_SNU_patches_SET2.hdf5 ====\n",
    "Best PSNR : 19.2362128\n",
    "PSNR : 18.5380584 SSIM : 0.2983543\n",
    "\"\"\""
   ]
  },
  {
   "cell_type": "code",
   "execution_count": 18,
   "id": "42df81f8-651b-4cdf-9365-1f78b5c286fc",
   "metadata": {},
   "outputs": [
    {
     "name": "stdout",
     "output_type": "stream",
     "text": [
      "==== test_Samsung_SNU_patches_SET7_divided_by_fnum.hdf5 ====\n",
      "==== F1 ===\n",
      "Best PSNR : 12.4566701\n",
      "PSNR : 12.3619588 SSIM : 0.0892999\n",
      "==== F2 ===\n",
      "Best PSNR : 14.3378771\n",
      "PSNR : 14.1765638 SSIM : 0.1428333\n",
      "==== F4 ===\n",
      "Best PSNR : 16.2482339\n",
      "PSNR : 16.0776840 SSIM : 0.2131479\n",
      "==== F8 ===\n",
      "Best PSNR : 18.7343341\n",
      "PSNR : 18.5633554 SSIM : 0.3026474\n",
      "==== F16 ===\n",
      "Best PSNR : 21.0945339\n",
      "PSNR : 20.9662113 SSIM : 0.4041676\n",
      "==== F32 ===\n",
      "Best PSNR : 23.3014502\n",
      "PSNR : 23.1702172 SSIM : 0.5065266\n",
      "==== train_Samsung_SNU_patches_SET7_divided_by_fnum.hdf5 ====\n",
      "==== F1 ===\n",
      "Best PSNR : 12.5362433\n",
      "PSNR : 12.3946722 SSIM : 0.0908380\n",
      "==== F2 ===\n",
      "Best PSNR : 14.4578972\n",
      "PSNR : 14.2633263 SSIM : 0.1448690\n",
      "==== F4 ===\n",
      "Best PSNR : 16.4162159\n",
      "PSNR : 16.1991682 SSIM : 0.2152941\n",
      "==== F8 ===\n",
      "Best PSNR : 18.8527018\n",
      "PSNR : 18.6522020 SSIM : 0.3040451\n",
      "==== F16 ===\n",
      "Best PSNR : 21.1825792\n",
      "PSNR : 21.0207868 SSIM : 0.4083135\n",
      "==== F32 ===\n",
      "Best PSNR : 23.3310503\n",
      "PSNR : 23.2442799 SSIM : 0.5134959\n",
      "==== val_Samsung_SNU_patches_SET7_divided_by_fnum.hdf5 ====\n",
      "==== F1 ===\n",
      "Best PSNR : 12.4629864\n",
      "PSNR : 12.3619806 SSIM : 0.0894405\n",
      "==== F2 ===\n",
      "Best PSNR : 14.3364994\n",
      "PSNR : 14.1763072 SSIM : 0.1430762\n",
      "==== F4 ===\n",
      "Best PSNR : 16.2488713\n",
      "PSNR : 16.0771066 SSIM : 0.2133118\n",
      "==== F8 ===\n",
      "Best PSNR : 18.7366521\n",
      "PSNR : 18.5631140 SSIM : 0.3028241\n",
      "==== F16 ===\n",
      "Best PSNR : 21.1072736\n",
      "PSNR : 20.9659419 SSIM : 0.4042931\n",
      "==== F32 ===\n",
      "Best PSNR : 23.2941630\n",
      "PSNR : 23.1708902 SSIM : 0.5066592\n"
     ]
    },
    {
     "data": {
      "text/plain": [
       "'\\n==== test_Samsung_SNU_patches_SET2.hdf5 ====\\nBest PSNR : 19.2362128\\nPSNR : 18.5380584 SSIM : 0.2983543\\n'"
      ]
     },
     "execution_count": 18,
     "metadata": {},
     "output_type": "execute_result"
    }
   ],
   "source": [
    "import h5py\n",
    "import numpy as np\n",
    "import pandas as pd\n",
    "metric = {}\n",
    "for set_file in sorted(glob.glob(\"*_Samsung_SNU_patches_SET7_divided_by_fnum.hdf5\")):\n",
    "    print(f\"==== {set_file} ====\")\n",
    "    dataset_type = set_file.split(\"_\")[0]\n",
    "    noisy_f_num_list = ['F1','F2','F4','F8','F16','F32']\n",
    "    metric[dataset_type] = {}\n",
    "    for noisy_f_num in noisy_f_num_list:\n",
    "        metric[dataset_type][noisy_f_num] = {'PSNR' : 0, 'SSIM' : 0}\n",
    "    with h5py.File(set_file,'r') as f:\n",
    "        for noisy_f_num in ['F1','F2','F4','F8','F16','F32']:\n",
    "            avg_psnr, avg_ssim = [], []\n",
    "            best_psnr = None\n",
    "            for noisy, clean in zip(f[noisy_f_num],f['F64']):#zip(f['noisy_images'],f['clean_images']):\n",
    "                #print(noisy.shape, clean.shape)\n",
    "                psnr,ssim = peak_signal_noise_ratio(clean,noisy), structural_similarity(noisy,clean)\n",
    "                if best_psnr is None:\n",
    "                    best_psnr = psnr\n",
    "                elif best_psnr < psnr:\n",
    "                    best_psnr = psnr\n",
    "                avg_psnr.append(psnr)\n",
    "                avg_ssim.append(ssim)\n",
    "            print(f\"==== {noisy_f_num} ===\")\n",
    "            print(f\"Best PSNR : {best_psnr:.7f}\")\n",
    "            print(f\"PSNR : {np.mean(avg_psnr):.7f} SSIM : {np.mean(avg_ssim):.7f}\")\n",
    "            metric[dataset_type][noisy_f_num]['PSNR'] = np.mean(avg_psnr)\n",
    "            metric[dataset_type][noisy_f_num]['SSIM'] = np.mean(avg_ssim)\n",
    "        metric_pd = pd.DataFrame.from_dict(metric[dataset_type])\n",
    "        metric_pd.T.to_csv(f'SET7_{dataset_type}metric.csv')\n",
    "            #sys.exit(-1)\n",
    "\"\"\"\n",
    "==== test_Samsung_SNU_patches_SET2.hdf5 ====\n",
    "Best PSNR : 19.2362128\n",
    "PSNR : 18.5380584 SSIM : 0.2983543\n",
    "\"\"\""
   ]
  },
  {
   "cell_type": "code",
   "execution_count": 5,
   "id": "37a6f4bd-de1e-40cd-a5d7-ea088768c7fa",
   "metadata": {},
   "outputs": [
    {
     "name": "stdout",
     "output_type": "stream",
     "text": [
      "==== val_Samsung_SNU_patches_SET1.hdf5 ====\n",
      "Best PSNR : 18.8239511\n",
      "PSNR : 17.2250214 SSIM : 0.2388779\n",
      "==== val_Samsung_SNU_patches_SET2.hdf5 ====\n",
      "Best PSNR : 21.8160933\n",
      "PSNR : 19.0831842 SSIM : 0.3228273\n",
      "==== val_Samsung_SNU_patches_SET3.hdf5 ====\n",
      "Best PSNR : 19.0671288\n",
      "PSNR : 17.5942280 SSIM : 0.2650682\n",
      "==== val_Samsung_SNU_patches_SET4.hdf5 ====\n",
      "Best PSNR : 19.5617530\n",
      "PSNR : 18.0223475 SSIM : 0.2827630\n"
     ]
    }
   ],
   "source": [
    "import h5py\n",
    "import numpy as np\n",
    "for set_file in sorted(glob.glob(\"val_Samsung_SNU_patches_SET*.hdf5\")):\n",
    "    print(f\"==== {set_file} ====\")\n",
    "    \n",
    "    with h5py.File(set_file,'r') as f:\n",
    "        avg_psnr, avg_ssim = [], []\n",
    "        best_psnr = None\n",
    "        for noisy, clean in zip(f['noisy_images'],f['clean_images']):\n",
    "            #print(noisy.shape, clean.shape)\n",
    "            psnr,ssim = peak_signal_noise_ratio(clean,noisy), structural_similarity(noisy,clean)\n",
    "            if best_psnr is None:\n",
    "                best_psnr = psnr\n",
    "            elif best_psnr < psnr:\n",
    "                best_psnr = psnr\n",
    "            avg_psnr.append(psnr)\n",
    "            avg_ssim.append(ssim)\n",
    "        print(f\"Best PSNR : {best_psnr:.7f}\")\n",
    "        print(f\"PSNR : {np.mean(avg_psnr):.7f} SSIM : {np.mean(avg_ssim):.7f}\")\n",
    "        "
   ]
  },
  {
   "cell_type": "code",
   "execution_count": 6,
   "id": "b47489fd-c091-46b3-a32b-a5fd8c54d9b7",
   "metadata": {},
   "outputs": [
    {
     "name": "stdout",
     "output_type": "stream",
     "text": [
      "==== test_Samsung_SNU_patches_SET1.hdf5 ====\n",
      "Best PSNR : 18.7790439\n",
      "PSNR : 17.1774493 SSIM : 0.2349829\n",
      "==== test_Samsung_SNU_patches_SET2.hdf5 ====\n",
      "Best PSNR : 21.8028618\n",
      "PSNR : 19.5108402 SSIM : 0.3387695\n",
      "==== test_Samsung_SNU_patches_SET3.hdf5 ====\n",
      "Best PSNR : 19.0648426\n",
      "PSNR : 17.5153099 SSIM : 0.2623613\n",
      "==== test_Samsung_SNU_patches_SET4.hdf5 ====\n",
      "Best PSNR : 19.7593513\n",
      "PSNR : 18.1504030 SSIM : 0.2869814\n"
     ]
    }
   ],
   "source": [
    "# validate test dataset pair match well\n",
    "import h5py\n",
    "import numpy as np\n",
    "for set_file in sorted(glob.glob(\"test_Samsung_SNU_patches_SET*.hdf5\")):\n",
    "    print(f\"==== {set_file} ====\")\n",
    "    \n",
    "    with h5py.File(set_file,'r') as f:\n",
    "        avg_psnr, avg_ssim = [], []\n",
    "        best_psnr = None\n",
    "        for noisy, clean in zip(f['noisy_images'],f['clean_images']):\n",
    "            #print(noisy.shape, clean.shape)\n",
    "            psnr,ssim = peak_signal_noise_ratio(clean,noisy), structural_similarity(noisy,clean)\n",
    "            if best_psnr is None:\n",
    "                best_psnr = psnr\n",
    "            elif best_psnr < psnr:\n",
    "                best_psnr = psnr\n",
    "            \n",
    "            avg_psnr.append(psnr)\n",
    "            avg_ssim.append(ssim)\n",
    "        print(f\"Best PSNR : {best_psnr:.7f}\")\n",
    "        print(f\"PSNR : {np.mean(avg_psnr):.7f} SSIM : {np.mean(avg_ssim):.7f}\")\n",
    "        "
   ]
  },
  {
   "cell_type": "code",
   "execution_count": null,
   "id": "23a28afc-29ef-49c8-a50d-7f51d92587e0",
   "metadata": {},
   "outputs": [],
   "source": []
  },
  {
   "cell_type": "code",
   "execution_count": null,
   "id": "8ffb5f6d-737a-4812-ad69-05d083093f84",
   "metadata": {},
   "outputs": [],
   "source": []
  }
 ],
 "metadata": {
  "kernelspec": {
   "display_name": "Python 3 (ipykernel)",
   "language": "python",
   "name": "python3"
  },
  "language_info": {
   "codemirror_mode": {
    "name": "ipython",
    "version": 3
   },
   "file_extension": ".py",
   "mimetype": "text/x-python",
   "name": "python",
   "nbconvert_exporter": "python",
   "pygments_lexer": "ipython3",
   "version": "3.9.13"
  }
 },
 "nbformat": 4,
 "nbformat_minor": 5
}
