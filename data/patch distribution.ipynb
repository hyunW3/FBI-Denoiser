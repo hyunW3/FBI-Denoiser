{
 "cells": [
  {
   "cell_type": "code",
   "execution_count": 2,
   "id": "a77ff895-e236-4a65-8862-06a4ea551780",
   "metadata": {},
   "outputs": [],
   "source": [
    "import torch\n",
    "import cv2 \n",
    "from matplotlib import pyplot as plt\n",
    "import os\n",
    "import numpy as np\n",
    "import PIL\n",
    "from PIL import Image\n",
    "os.environ[\"CUDA_DEVICE_ORDER\"]=\"PCI_BUS_ID\"  # Arrange GPU devices starting from 0\n",
    "os.environ[\"CUDA_VISIBLE_DEVICES\"]= \"0\"  # Set the GPU 0 to use"
   ]
  },
  {
   "cell_type": "code",
   "execution_count": 9,
   "id": "c775b5ec-13df-48ef-aecb-e99c52384540",
   "metadata": {},
   "outputs": [
    {
     "name": "stdout",
     "output_type": "stream",
     "text": [
      "173\n"
     ]
    }
   ],
   "source": [
    "!ls ./data/Samsung_SNU_augmented/SET1 | grep 10_F8 | wc -l"
   ]
  },
  {
   "cell_type": "code",
   "execution_count": 11,
   "id": "871fdb66-2b7d-4795-b1cb-fe1f7e9edea7",
   "metadata": {},
   "outputs": [],
   "source": [
    "path = \"./data/Samsung_SNU_augmented/SET1\""
   ]
  },
  {
   "cell_type": "code",
   "execution_count": 4,
   "id": "2e5117b8-e7c5-4c6f-8196-cfae63f0fb68",
   "metadata": {},
   "outputs": [
    {
     "name": "stdout",
     "output_type": "stream",
     "text": [
      "=== extracting [SET 1] ===\n",
      "../data/Samsung_SNU/[SET 1]/F32\n",
      "../data/Samsung_SNU/[SET 1]/F8\n",
      "../data/Samsung_SNU/[SET 1]/F64\n",
      "../data/Samsung_SNU/[SET 1]/F16\n",
      "=== extracting [SET 2] ===\n",
      "../data/Samsung_SNU/[SET 2]/F32\n",
      "../data/Samsung_SNU/[SET 2]/F8\n",
      "../data/Samsung_SNU/[SET 2]/F64\n",
      "../data/Samsung_SNU/[SET 2]/F16\n",
      "=== extracting [SET 3] ===\n",
      "../data/Samsung_SNU/[SET 3]/F32\n",
      "../data/Samsung_SNU/[SET 3]/F8\n",
      "../data/Samsung_SNU/[SET 3]/F64\n",
      "../data/Samsung_SNU/[SET 3]/F16\n",
      "=== extracting [SET 4] ===\n",
      "../data/Samsung_SNU/[SET 4]/F32\n",
      "../data/Samsung_SNU/[SET 4]/F8\n",
      "../data/Samsung_SNU/[SET 4]/F64\n",
      "../data/Samsung_SNU/[SET 4]/F16\n"
     ]
    }
   ],
   "source": [
    "import core.data_loader"
   ]
  },
  {
   "cell_type": "code",
   "execution_count": null,
   "id": "5ab31e0f-ed7c-40a5-86d6-ac43ce8e6153",
   "metadata": {},
   "outputs": [],
   "source": []
  },
  {
   "cell_type": "code",
   "execution_count": null,
   "id": "1d694435-7443-4aaf-b9dd-d504c02ea3dd",
   "metadata": {},
   "outputs": [],
   "source": []
  }
 ],
 "metadata": {
  "kernelspec": {
   "display_name": "Python 3 (ipykernel)",
   "language": "python",
   "name": "python3"
  },
  "language_info": {
   "codemirror_mode": {
    "name": "ipython",
    "version": 3
   },
   "file_extension": ".py",
   "mimetype": "text/x-python",
   "name": "python",
   "nbconvert_exporter": "python",
   "pygments_lexer": "ipython3",
   "version": "3.9.13"
  }
 },
 "nbformat": 4,
 "nbformat_minor": 5
}
