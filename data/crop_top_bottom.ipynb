{
 "cells": [
  {
   "cell_type": "code",
   "execution_count": 1,
   "id": "a1050dbd-a529-41dc-9109-e2bff1ea5b51",
   "metadata": {},
   "outputs": [
    {
     "name": "stderr",
     "output_type": "stream",
     "text": [
      "/mnt/ssd/hyun/fbi-net/env/lib/python3.9/site-packages/tqdm/auto.py:22: TqdmWarning: IProgress not found. Please update jupyter and ipywidgets. See https://ipywidgets.readthedocs.io/en/stable/user_install.html\n",
      "  from .autonotebook import tqdm as notebook_tqdm\n"
     ]
    }
   ],
   "source": [
    "import torch\n",
    "import torch.backends.cudnn as cudnn\n",
    "import torchvision\n",
    "import cv2 \n",
    "from matplotlib import pyplot as plt\n",
    "import os\n",
    "import numpy as np\n",
    "import PIL\n",
    "import random\n",
    "from PIL import Image\n",
    "import h5py\n",
    "from typing import Generator\n",
    "os.environ[\"CUDA_DEVICE_ORDER\"]=\"PCI_BUS_ID\"  # Arrange GPU devices starting from 0\n",
    "os.environ[\"CUDA_VISIBLE_DEVICES\"]= \"2\"  # Set the GPU 1 to use\n",
    "from core.data_loader import sem_generator,patch_generator, load_whole_image\n",
    "from core.crop_image import scale_f_num_0to3,crop_image, make_image_crop\n",
    "from core.utils import seed_everything"
   ]
  },
  {
   "cell_type": "code",
   "execution_count": 6,
   "id": "59e9f91e-c853-4cc9-a209-1b1827f91064",
   "metadata": {},
   "outputs": [],
   "source": [
    "seed_everything(0) # Seed 고정"
   ]
  },
  {
   "cell_type": "code",
   "execution_count": 7,
   "id": "8caf8ee7-39a3-4cf0-9720-50b952e1da68",
   "metadata": {},
   "outputs": [],
   "source": [
    "# load whole image[size : (2048, 3072)] in \"whole_images\" \n",
    "data_path = \"Samsung_SNU\"\n",
    "num_per_Ffolder = 16\n",
    "# whole_images = load_whole_image(data_path,num_per_Ffolder)"
   ]
  },
  {
   "cell_type": "code",
   "execution_count": 8,
   "id": "a3e4938b-1c1d-4141-9c1c-ab03eaa054ad",
   "metadata": {},
   "outputs": [],
   "source": [
    "gen = sem_generator(data_path)"
   ]
  },
  {
   "cell_type": "code",
   "execution_count": 9,
   "id": "9f1c5ee2-b7b2-4dd0-a772-d6003a31e852",
   "metadata": {},
   "outputs": [],
   "source": [
    "def generate_top_bottom_crop_image(data_path : str,generator : Generator[str,str,np.array]):\n",
    "    for img in generator:\n",
    "        set_num, f_num, image_num = img[:3]\n",
    "        save_dir = os.path.join(data_path+\"_1536x3072\",set_num)\n",
    "        os.makedirs(save_dir,exist_ok=True)\n",
    "        #print(save_dir)\n",
    "        img = img[-1][256:-256,:]\n",
    "        #plt.imshow(img,cmap='gray')\n",
    "        file_name = f\"{f_num}_{image_num}.png\"\n",
    "        file_path = os.path.join(save_dir,file_name)\n",
    "        plt.imsave(file_path,img,cmap='gray')"
   ]
  },
  {
   "cell_type": "code",
   "execution_count": 10,
   "id": "97480c55-6372-4422-923f-6495fb0333cc",
   "metadata": {},
   "outputs": [],
   "source": [
    "#generate_top_bottom_crop_image(data_path,gen)"
   ]
  },
  {
   "cell_type": "code",
   "execution_count": 11,
   "id": "8ffa9f39-2595-4443-ac48-93284ad624aa",
   "metadata": {},
   "outputs": [
    {
     "name": "stdout",
     "output_type": "stream",
     "text": [
      "Samsung_SNU_1536x3072/SET1/F16_1.png\n"
     ]
    }
   ],
   "source": [
    "!ls Samsung_SNU_1536x3072/SET1/F16_1.png"
   ]
  },
  {
   "cell_type": "code",
   "execution_count": null,
   "id": "68cbf6bd-0119-4c4f-94ec-93a9eb1cd8be",
   "metadata": {},
   "outputs": [],
   "source": []
  }
 ],
 "metadata": {
  "kernelspec": {
   "display_name": "Python 3 (ipykernel)",
   "language": "python",
   "name": "python3"
  },
  "language_info": {
   "codemirror_mode": {
    "name": "ipython",
    "version": 3
   },
   "file_extension": ".py",
   "mimetype": "text/x-python",
   "name": "python",
   "nbconvert_exporter": "python",
   "pygments_lexer": "ipython3",
   "version": "3.9.13"
  }
 },
 "nbformat": 4,
 "nbformat_minor": 5
}
