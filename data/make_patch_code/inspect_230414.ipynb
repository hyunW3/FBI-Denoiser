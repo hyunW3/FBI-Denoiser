{
 "cells": [
  {
   "cell_type": "code",
   "execution_count": 5,
   "metadata": {},
   "outputs": [],
   "source": [
    "import os\n",
    "from glob import glob\n",
    "import cv2"
   ]
  },
  {
   "cell_type": "code",
   "execution_count": 2,
   "metadata": {},
   "outputs": [
    {
     "data": {
      "text/plain": [
       "['F32', 'F01']"
      ]
     },
     "execution_count": 2,
     "metadata": {},
     "output_type": "execute_result"
    }
   ],
   "source": [
    "os.listdir(\"../Samsung_SNU_dataset_230414\")"
   ]
  },
  {
   "cell_type": "code",
   "execution_count": 10,
   "metadata": {},
   "outputs": [
    {
     "name": "stdout",
     "output_type": "stream",
     "text": [
      "F32 42\n",
      "F01 672\n"
     ]
    }
   ],
   "source": [
    "i = 0\n",
    "dataset_path = \"../Samsung_SNU_dataset_230414\"\n",
    "for set_num in os.listdir(dataset_path):\n",
    "    set_path = os.path.join(dataset_path,set_num)\n",
    "    img_list = sorted(os.listdir(set_path))\n",
    "    print(set_num, len(img_list))"
   ]
  },
  {
   "cell_type": "code",
   "execution_count": 11,
   "metadata": {},
   "outputs": [
    {
     "data": {
      "text/plain": [
       "672"
      ]
     },
     "execution_count": 11,
     "metadata": {},
     "output_type": "execute_result"
    }
   ],
   "source": [
    "42 * 16"
   ]
  },
  {
   "attachments": {},
   "cell_type": "markdown",
   "metadata": {},
   "source": [
    "# check image shape"
   ]
  },
  {
   "cell_type": "code",
   "execution_count": 9,
   "metadata": {},
   "outputs": [
    {
     "name": "stdout",
     "output_type": "stream",
     "text": [
      "..........................................\n",
      "........\n",
      "..................................................\n",
      "..................................................\n",
      "..................................................\n",
      "..................................................\n",
      "..................................................\n",
      "..................................................\n",
      "..................................................\n",
      "..................................................\n",
      "..................................................\n",
      "..................................................\n",
      "..................................................\n",
      "..................................................\n",
      "..................................................\n",
      "..............\n"
     ]
    }
   ],
   "source": [
    "i = 0\n",
    "dataset_path = \"../Samsung_SNU_dataset_230414\"\n",
    "for set_num in os.listdir(dataset_path):\n",
    "    set_path = os.path.join(dataset_path,set_num)\n",
    "    img_list = sorted(os.listdir(set_path))\n",
    "    for img_name in img_list:\n",
    "        img_path = os.path.join(set_path,img_name)\n",
    "        img = cv2.imread(img_path, cv2.IMREAD_GRAYSCALE)\n",
    "        if img.shape == (2048,3072):\n",
    "            print(\".\",end='')\n",
    "            i+=1\n",
    "            if i >= 50:\n",
    "                print(\"\")\n",
    "                i = 0\n",
    "        else :\n",
    "            print(\"\\n\",img_name, ' - ', img.shape)\n",
    "    print(\"\")"
   ]
  },
  {
   "cell_type": "code",
   "execution_count": 36,
   "metadata": {},
   "outputs": [
    {
     "name": "stdout",
     "output_type": "stream",
     "text": [
      "==== load original image =====\n"
     ]
    }
   ],
   "source": [
    "\n",
    "from fileinput import filename\n",
    "from typing import Generator\n",
    "import numpy as np\n",
    "data_path = \"../Samsung_SNU_dataset_230414\"\n",
    "\n",
    "def sem_generator(data_path : str):\n",
    "    for f_num in sorted(os.listdir(data_path)):\n",
    "        f_path = os.path.join(data_path,f_num)\n",
    "        f_number = int(f_num[1:])\n",
    "        for file_name in sorted(os.listdir(f_path)):\n",
    "            file_path = os.path.join(f_path,file_name)\n",
    "            print(f_num)\n",
    "            img_info = file_name.split(f\"_{f_num}\")[0]\n",
    "            print(img_info)\n",
    "            image_num,image_idx = img_info.split(\"-\")[0], img_info.split(\"-\")[1] # 1-2\n",
    "        \n",
    "            img = cv2.imread(file_path,cv2.IMREAD_GRAYSCALE)\n",
    "            \n",
    "            yield [f\"F{f_number:02d}\", int(image_num), int(image_idx),img]\n",
    "\n",
    "def generate_top_bottom_crop_image(data_path : str,generator : Generator[str,str,np.array],save=True):\n",
    "    new_path = data_path+\"_1536x3072\"\n",
    "    for img in generator:\n",
    "        print(img[:3])\n",
    "        f_num, image_num, image_idx = img[:3]\n",
    "        save_dir = os.path.join(new_path,set_num)\n",
    "        os.makedirs(save_dir,exist_ok=True)\n",
    "        #print(save_dir)\n",
    "    \n",
    "        img = img[-1][256:-256,:]\n",
    "        #print(img.shape) # (1536, 3072)\n",
    "        #plt.imshow(img,cmap='gray')\n",
    "        file_name = f\"{f_num}_{image_num:02d}-{image_idx:02d}.png\"\n",
    "        file_path = os.path.join(save_dir,file_name)\n",
    "        print(file_name)\n",
    "        sys.exit(0)\n",
    "        if save is True:\n",
    "            cv2.imwrite(file_path,img)\n",
    "        \n",
    "    return new_path\n",
    "\n",
    "print(\"==== load original image =====\")\n",
    "gen = sem_generator(data_path)"
   ]
  },
  {
   "cell_type": "code",
   "execution_count": 37,
   "metadata": {},
   "outputs": [
    {
     "name": "stdout",
     "output_type": "stream",
     "text": [
      "F1\n",
      "1-10\n",
      "['F01', 1, 10]\n",
      "F01_01-10.png\n"
     ]
    },
    {
     "ename": "NameError",
     "evalue": "name 'sys' is not defined",
     "output_type": "error",
     "traceback": [
      "\u001b[0;31m---------------------------------------------------------------------------\u001b[0m",
      "\u001b[0;31mNameError\u001b[0m                                 Traceback (most recent call last)",
      "\u001b[1;32m/home/hyunwoong/FBI-Denoiser/data/make_patch_code/inspect_230414.ipynb 셀 8\u001b[0m in \u001b[0;36m<cell line: 1>\u001b[0;34m()\u001b[0m\n\u001b[0;32m----> <a href='vscode-notebook-cell://ssh-remote%2B55_server_no_proxy/home/hyunwoong/FBI-Denoiser/data/make_patch_code/inspect_230414.ipynb#X11sdnNjb2RlLXJlbW90ZQ%3D%3D?line=0'>1</a>\u001b[0m generate_top_bottom_crop_image(data_path\u001b[39m=\u001b[39;49mdata_path, generator\u001b[39m=\u001b[39;49mgen,save\u001b[39m=\u001b[39;49m\u001b[39mFalse\u001b[39;49;00m)\n",
      "\u001b[1;32m/home/hyunwoong/FBI-Denoiser/data/make_patch_code/inspect_230414.ipynb 셀 8\u001b[0m in \u001b[0;36mgenerate_top_bottom_crop_image\u001b[0;34m(data_path, generator, save)\u001b[0m\n\u001b[1;32m     <a href='vscode-notebook-cell://ssh-remote%2B55_server_no_proxy/home/hyunwoong/FBI-Denoiser/data/make_patch_code/inspect_230414.ipynb#X11sdnNjb2RlLXJlbW90ZQ%3D%3D?line=34'>35</a>\u001b[0m file_path \u001b[39m=\u001b[39m os\u001b[39m.\u001b[39mpath\u001b[39m.\u001b[39mjoin(save_dir,file_name)\n\u001b[1;32m     <a href='vscode-notebook-cell://ssh-remote%2B55_server_no_proxy/home/hyunwoong/FBI-Denoiser/data/make_patch_code/inspect_230414.ipynb#X11sdnNjb2RlLXJlbW90ZQ%3D%3D?line=35'>36</a>\u001b[0m \u001b[39mprint\u001b[39m(file_name)\n\u001b[0;32m---> <a href='vscode-notebook-cell://ssh-remote%2B55_server_no_proxy/home/hyunwoong/FBI-Denoiser/data/make_patch_code/inspect_230414.ipynb#X11sdnNjb2RlLXJlbW90ZQ%3D%3D?line=36'>37</a>\u001b[0m sys\u001b[39m.\u001b[39mexit(\u001b[39m0\u001b[39m)\n\u001b[1;32m     <a href='vscode-notebook-cell://ssh-remote%2B55_server_no_proxy/home/hyunwoong/FBI-Denoiser/data/make_patch_code/inspect_230414.ipynb#X11sdnNjb2RlLXJlbW90ZQ%3D%3D?line=37'>38</a>\u001b[0m \u001b[39mif\u001b[39;00m save \u001b[39mis\u001b[39;00m \u001b[39mTrue\u001b[39;00m:\n\u001b[1;32m     <a href='vscode-notebook-cell://ssh-remote%2B55_server_no_proxy/home/hyunwoong/FBI-Denoiser/data/make_patch_code/inspect_230414.ipynb#X11sdnNjb2RlLXJlbW90ZQ%3D%3D?line=38'>39</a>\u001b[0m     cv2\u001b[39m.\u001b[39mimwrite(file_path,img)\n",
      "\u001b[0;31mNameError\u001b[0m: name 'sys' is not defined"
     ]
    }
   ],
   "source": [
    "generate_top_bottom_crop_image(data_path=data_path, generator=gen,save=False)"
   ]
  },
  {
   "cell_type": "code",
   "execution_count": null,
   "metadata": {},
   "outputs": [],
   "source": []
  }
 ],
 "metadata": {
  "kernelspec": {
   "display_name": "env",
   "language": "python",
   "name": "python3"
  },
  "language_info": {
   "codemirror_mode": {
    "name": "ipython",
    "version": 3
   },
   "file_extension": ".py",
   "mimetype": "text/x-python",
   "name": "python",
   "nbconvert_exporter": "python",
   "pygments_lexer": "ipython3",
   "version": "3.9.13"
  },
  "orig_nbformat": 4
 },
 "nbformat": 4,
 "nbformat_minor": 2
}
