{
 "cells": [
  {
   "cell_type": "code",
   "execution_count": 3,
   "id": "ec9d7513-7c4a-4b40-8f36-bd7d74ecaf26",
   "metadata": {},
   "outputs": [],
   "source": [
    "import numpy as np\n",
    "import pandas as pd"
   ]
  },
  {
   "cell_type": "code",
   "execution_count": 9,
   "id": "36ef2280-9c2c-4128-838c-7b39a7f134ec",
   "metadata": {},
   "outputs": [
    {
     "data": {
      "text/html": [
       "<div>\n",
       "<style scoped>\n",
       "    .dataframe tbody tr th:only-of-type {\n",
       "        vertical-align: middle;\n",
       "    }\n",
       "\n",
       "    .dataframe tbody tr th {\n",
       "        vertical-align: top;\n",
       "    }\n",
       "\n",
       "    .dataframe thead th {\n",
       "        text-align: right;\n",
       "    }\n",
       "</style>\n",
       "<table border=\"1\" class=\"dataframe\">\n",
       "  <thead>\n",
       "    <tr style=\"text-align: right;\">\n",
       "      <th></th>\n",
       "      <th>alpha</th>\n",
       "      <th>sigma</th>\n",
       "    </tr>\n",
       "  </thead>\n",
       "  <tbody>\n",
       "    <tr>\n",
       "      <th>0</th>\n",
       "      <td>7.200000e-05</td>\n",
       "      <td>1.060000e-01</td>\n",
       "    </tr>\n",
       "    <tr>\n",
       "      <th>1</th>\n",
       "      <td>2.220000e-16</td>\n",
       "      <td>1.380000e-01</td>\n",
       "    </tr>\n",
       "    <tr>\n",
       "      <th>2</th>\n",
       "      <td>1.860000e-03</td>\n",
       "      <td>1.010000e-01</td>\n",
       "    </tr>\n",
       "    <tr>\n",
       "      <th>3</th>\n",
       "      <td>3.020000e-04</td>\n",
       "      <td>1.040000e-01</td>\n",
       "    </tr>\n",
       "    <tr>\n",
       "      <th>4</th>\n",
       "      <td>2.220000e-16</td>\n",
       "      <td>1.090000e-01</td>\n",
       "    </tr>\n",
       "    <tr>\n",
       "      <th>...</th>\n",
       "      <td>...</td>\n",
       "      <td>...</td>\n",
       "    </tr>\n",
       "    <tr>\n",
       "      <th>1495</th>\n",
       "      <td>2.000000e-03</td>\n",
       "      <td>6.410000e-02</td>\n",
       "    </tr>\n",
       "    <tr>\n",
       "      <th>1496</th>\n",
       "      <td>2.220000e-16</td>\n",
       "      <td>7.940000e-02</td>\n",
       "    </tr>\n",
       "    <tr>\n",
       "      <th>1497</th>\n",
       "      <td>1.110000e-02</td>\n",
       "      <td>1.490000e-08</td>\n",
       "    </tr>\n",
       "    <tr>\n",
       "      <th>1498</th>\n",
       "      <td>3.920000e-03</td>\n",
       "      <td>5.740000e-02</td>\n",
       "    </tr>\n",
       "    <tr>\n",
       "      <th>1499</th>\n",
       "      <td>1.140000e-03</td>\n",
       "      <td>6.910000e-02</td>\n",
       "    </tr>\n",
       "  </tbody>\n",
       "</table>\n",
       "<p>1500 rows × 2 columns</p>\n",
       "</div>"
      ],
      "text/plain": [
       "             alpha         sigma\n",
       "0     7.200000e-05  1.060000e-01\n",
       "1     2.220000e-16  1.380000e-01\n",
       "2     1.860000e-03  1.010000e-01\n",
       "3     3.020000e-04  1.040000e-01\n",
       "4     2.220000e-16  1.090000e-01\n",
       "...            ...           ...\n",
       "1495  2.000000e-03  6.410000e-02\n",
       "1496  2.220000e-16  7.940000e-02\n",
       "1497  1.110000e-02  1.490000e-08\n",
       "1498  3.920000e-03  5.740000e-02\n",
       "1499  1.140000e-03  6.910000e-02\n",
       "\n",
       "[1500 rows x 2 columns]"
      ]
     },
     "execution_count": 9,
     "metadata": {},
     "output_type": "execute_result"
    }
   ],
   "source": [
    "estimated_noise = pd.read_csv('./noiseEstimationSET1_val.csv')\n",
    "estimated_noise"
   ]
  },
  {
   "cell_type": "code",
   "execution_count": 14,
   "id": "105df830-226d-4d03-9fc0-a7c3d6402e10",
   "metadata": {},
   "outputs": [
    {
     "data": {
      "text/plain": [
       "array([[7.20e-05, 1.06e-01],\n",
       "       [2.22e-16, 1.38e-01],\n",
       "       [1.86e-03, 1.01e-01],\n",
       "       ...,\n",
       "       [1.11e-02, 1.49e-08],\n",
       "       [3.92e-03, 5.74e-02],\n",
       "       [1.14e-03, 6.91e-02]])"
      ]
     },
     "execution_count": 14,
     "metadata": {},
     "output_type": "execute_result"
    }
   ],
   "source": [
    "estimated_noise.to_numpy()"
   ]
  },
  {
   "cell_type": "code",
   "execution_count": 16,
   "id": "8377d86e-8e1c-4f0e-8024-4bf94704a0ef",
   "metadata": {},
   "outputs": [],
   "source": [
    "g_noise = np.load('./estimated_gaussian_noise_level_arr.npy')"
   ]
  },
  {
   "cell_type": "code",
   "execution_count": 28,
   "id": "afa0ebab-b90d-4516-bb7a-8b083c0868d5",
   "metadata": {},
   "outputs": [
    {
     "data": {
      "text/plain": [
       "1500"
      ]
     },
     "execution_count": 28,
     "metadata": {},
     "output_type": "execute_result"
    }
   ],
   "source": [
    "len(g_noise)"
   ]
  },
  {
   "cell_type": "code",
   "execution_count": 27,
   "id": "bb1937d5-7230-4f16-a979-7aeb916f607d",
   "metadata": {},
   "outputs": [
    {
     "name": "stdout",
     "output_type": "stream",
     "text": [
      "Estimated Gaussian noise for Foi(except failure case) : 1.0063769817352295 \n",
      "Noise estimation fail case : 748/1500\n"
     ]
    }
   ],
   "source": [
    "print(f\"Estimated Gaussian noise for Foi(except failure case) : {np.mean(g_noise[g_noise>0])} \")\n",
    "print(f\"Noise estimation fail case : {len(g_noise[g_noise==0])}/{len(g_noise)}\")"
   ]
  },
  {
   "cell_type": "code",
   "execution_count": null,
   "id": "bb2377c2-6509-4685-8efd-06c3cf8ad761",
   "metadata": {},
   "outputs": [],
   "source": [
    "np."
   ]
  }
 ],
 "metadata": {
  "kernelspec": {
   "display_name": "Python 3 (ipykernel)",
   "language": "python",
   "name": "python3"
  },
  "language_info": {
   "codemirror_mode": {
    "name": "ipython",
    "version": 3
   },
   "file_extension": ".py",
   "mimetype": "text/x-python",
   "name": "python",
   "nbconvert_exporter": "python",
   "pygments_lexer": "ipython3",
   "version": "3.9.13"
  }
 },
 "nbformat": 4,
 "nbformat_minor": 5
}
